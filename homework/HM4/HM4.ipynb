{
  "nbformat": 4,
  "nbformat_minor": 0,
  "metadata": {
    "kernelspec": {
      "display_name": "Python 3",
      "language": "python",
      "name": "python3"
    },
    "language_info": {
      "codemirror_mode": {
        "name": "ipython",
        "version": 3
      },
      "file_extension": ".py",
      "mimetype": "text/x-python",
      "name": "python",
      "nbconvert_exporter": "python",
      "pygments_lexer": "ipython3",
      "version": "3.6.4"
    },
    "colab": {
      "name": "HM4.ipynb",
      "provenance": [],
      "collapsed_sections": []
    },
    "accelerator": "GPU"
  },
  "cells": [
    {
      "cell_type": "markdown",
      "metadata": {
        "id": "sMAkgcEQmmNj"
      },
      "source": [
        "# Home 4: Build a CNN for image recognition.\n",
        "\n",
        "### Name: Ayesha Parveen\n"
      ]
    },
    {
      "cell_type": "markdown",
      "metadata": {
        "id": "t7Fie2RwmmNp"
      },
      "source": [
        "## 0. You will do the following:\n",
        "\n",
        "1. Read, complete, and run the code.\n",
        "\n",
        "2. **Make substantial improvements** to maximize the accurcy.\n",
        "    \n",
        "3. Convert the .IPYNB file to .HTML file.\n",
        "\n",
        "    * The HTML file must contain the code and the output after execution.\n",
        "    \n",
        "    * Missing **the output after execution** will not be graded.\n",
        "    \n",
        "4. Upload this .HTML file to your Google Drive, Dropbox, or Github repo. (If you submit the file to Google Drive or Dropbox, you must make the file \"open-access\". The delay caused by \"deny of access\" may result in late penalty.)\n",
        "\n",
        "4. Submit the link to this .HTML file to Canvas.\n",
        "\n",
        "    * Example: https://github.com/wangshusen/CS583-2020S/blob/master/homework/HM4/HM4.html\n",
        "\n",
        "\n",
        "## Requirements:\n",
        "\n",
        "1. You can use whatever CNN architecture, including VGG, Inception, and ResNet. However, you must build the networks layer by layer. You must NOT import the archetectures from ```keras.applications```.\n",
        "\n",
        "2. Make sure ```BatchNormalization``` is between a ```Conv```/```Dense``` layer and an ```activation``` layer.\n",
        "\n",
        "3. If you want to regularize a ```Conv```/```Dense``` layer, you should place a ```Dropout``` layer **before** the ```Conv```/```Dense``` layer.\n",
        "\n",
        "4. An accuracy above 70% is considered reasonable. An accuracy above 80% is considered good. Without data augmentation, achieving 80% accuracy is difficult.\n",
        "\n",
        "\n",
        "## Google Colab\n",
        "\n",
        "- If you do not have GPU, the training of a CNN can be slow. Google Colab is a good option.\n",
        "\n",
        "- Keep in mind that you must download it as an IPYNB file and then use IPython Notebook to convert it to HTML.\n",
        "\n",
        "- Also keep in mind that the IPYNB and HTML files must contain the outputs. (Otherwise, the instructor will not be able to know the correctness and performance.) Do the followings to keep the outputs.\n",
        "\n",
        "- In Colab, go to ```Runtime``` --> ```Change runtime type``` --> Do NOT check ```Omit code cell output when saving this notebook```. In this way, the downloaded IPYNB file contains the outputs."
      ]
    },
    {
      "cell_type": "markdown",
      "metadata": {
        "id": "isUzv1MGmmNq"
      },
      "source": [
        "## 1. Data preparation"
      ]
    },
    {
      "cell_type": "markdown",
      "metadata": {
        "id": "EilN1rhkmmNq"
      },
      "source": [
        "### 1.1. Load data\n"
      ]
    },
    {
      "cell_type": "code",
      "metadata": {
        "colab": {
          "base_uri": "https://localhost:8080/"
        },
        "id": "CrEC3ztzmmNr",
        "outputId": "fc59472b-d139-444d-9739-b3a2a9137f62"
      },
      "source": [
        "from keras.datasets import cifar10\n",
        "import numpy\n",
        "\n",
        "(x_train, y_train), (x_test, y_test) = cifar10.load_data()\n",
        "\n",
        "print('shape of x_train: ' + str(x_train.shape))\n",
        "print('shape of y_train: ' + str(y_train.shape))\n",
        "print('shape of x_test: ' + str(x_test.shape))\n",
        "print('shape of y_test: ' + str(y_test.shape))\n",
        "print('number of classes: ' + str(numpy.max(y_train) - numpy.min(y_train) + 1))"
      ],
      "execution_count": 1,
      "outputs": [
        {
          "output_type": "stream",
          "text": [
            "shape of x_train: (50000, 32, 32, 3)\n",
            "shape of y_train: (50000, 1)\n",
            "shape of x_test: (10000, 32, 32, 3)\n",
            "shape of y_test: (10000, 1)\n",
            "number of classes: 10\n"
          ],
          "name": "stdout"
        }
      ]
    },
    {
      "cell_type": "markdown",
      "metadata": {
        "id": "gNeYJIYKmmNr"
      },
      "source": [
        "### 1.2. One-hot encode the labels\n",
        "\n",
        "In the input, a label is a scalar in $\\{0, 1, \\cdots , 9\\}$. One-hot encode transform such a scalar to a $10$-dim vector. E.g., a scalar ```y_train[j]=3``` is transformed to the vector ```y_train_vec[j]=[0, 0, 0, 1, 0, 0, 0, 0, 0, 0]```.\n",
        "\n",
        "1. Define a function ```to_one_hot``` that transforms an $n\\times 1$ array to a $n\\times 10$ matrix.\n",
        "\n",
        "2. Apply the function to ```y_train``` and ```y_test```."
      ]
    },
    {
      "cell_type": "code",
      "metadata": {
        "colab": {
          "base_uri": "https://localhost:8080/"
        },
        "id": "a506N9sYmmNr",
        "outputId": "3cc30c0a-8e11-4b8c-cb2c-19ee9ca40a95"
      },
      "source": [
        "def to_one_hot(y, num_class=10):\n",
        "    # <fill the function>\n",
        "    # ...\n",
        "    results = numpy.zeros((len(y),num_class))\n",
        "    for i, label in enumerate(y):\n",
        "      results[i, label] = 1\n",
        "    return results\n",
        "\n",
        "y_train_vec = to_one_hot(y_train)\n",
        "y_test_vec = to_one_hot(y_test)\n",
        "\n",
        "print('Shape of y_train_vec: ' + str(y_train_vec.shape))\n",
        "print('Shape of y_test_vec: ' + str(y_test_vec.shape))\n",
        "\n",
        "print(y_train[0])\n",
        "print(y_train_vec[0])"
      ],
      "execution_count": 2,
      "outputs": [
        {
          "output_type": "stream",
          "text": [
            "Shape of y_train_vec: (50000, 10)\n",
            "Shape of y_test_vec: (10000, 10)\n",
            "[6]\n",
            "[0. 0. 0. 0. 0. 0. 1. 0. 0. 0.]\n"
          ],
          "name": "stdout"
        }
      ]
    },
    {
      "cell_type": "markdown",
      "metadata": {
        "id": "KbytBjp_mmNs"
      },
      "source": [
        "#### Remark: the outputs should be\n",
        "* Shape of y_train_vec: (50000, 10)\n",
        "* Shape of y_test_vec: (10000, 10)\n",
        "* [6]\n",
        "* [0. 0. 0. 0. 0. 0. 1. 0. 0. 0.]"
      ]
    },
    {
      "cell_type": "markdown",
      "metadata": {
        "id": "19-2EAvummNs"
      },
      "source": [
        "### 1.3. Randomly partition the training set to training and validation sets\n",
        "\n",
        "Randomly partition the 50K training samples to 2 sets:\n",
        "* a training set containing 40K samples\n",
        "* a validation set containing 10K samples\n"
      ]
    },
    {
      "cell_type": "code",
      "metadata": {
        "colab": {
          "base_uri": "https://localhost:8080/"
        },
        "id": "sT3N-GNnmmNs",
        "outputId": "fcae260f-7980-46e8-b64f-4efb9f67fa9f"
      },
      "source": [
        "rand_indices = numpy.random.permutation(50000)\n",
        "train_indices = rand_indices[0:40000]\n",
        "valid_indices = rand_indices[40000:50000]\n",
        "\n",
        "x_val = x_train[valid_indices, :]\n",
        "y_val = y_train_vec[valid_indices, :]\n",
        "\n",
        "x_tr = x_train[train_indices, :]\n",
        "y_tr = y_train_vec[train_indices, :]\n",
        "\n",
        "print('Shape of x_tr: ' + str(x_tr.shape))\n",
        "print('Shape of y_tr: ' + str(y_tr.shape))\n",
        "print('Shape of x_val: ' + str(x_val.shape))\n",
        "print('Shape of y_val: ' + str(y_val.shape))"
      ],
      "execution_count": 3,
      "outputs": [
        {
          "output_type": "stream",
          "text": [
            "Shape of x_tr: (40000, 32, 32, 3)\n",
            "Shape of y_tr: (40000, 10)\n",
            "Shape of x_val: (10000, 32, 32, 3)\n",
            "Shape of y_val: (10000, 10)\n"
          ],
          "name": "stdout"
        }
      ]
    },
    {
      "cell_type": "markdown",
      "metadata": {
        "id": "ihsHFBSCmmNt"
      },
      "source": [
        "## 2. Build a CNN and tune its hyper-parameters\n",
        "\n",
        "1. Build a convolutional neural network model\n",
        "2. Use the validation data to tune the hyper-parameters (e.g., network structure, and optimization algorithm)\n",
        "    * Do NOT use test data for hyper-parameter tuning!!!\n",
        "3. Try to achieve a validation accuracy as high as possible."
      ]
    },
    {
      "cell_type": "markdown",
      "metadata": {
        "id": "Er7lSNDjmmNt"
      },
      "source": [
        "### Remark: \n",
        "\n",
        "The following CNN is just an example. You are supposed to make **substantial improvements** such as:\n",
        "* Add more layers.\n",
        "* Use regularizations, e.g., dropout.\n",
        "* Use batch normalization."
      ]
    },
    {
      "cell_type": "code",
      "metadata": {
        "id": "eZLOGN3_mmNu",
        "colab": {
          "base_uri": "https://localhost:8080/"
        },
        "outputId": "87caa9bc-a024-4bc1-f9cb-651dd47ae78a"
      },
      "source": [
        "from keras.layers import Conv2D, MaxPooling2D, Flatten, Dense, Dropout, BatchNormalization\n",
        "from keras.models import Sequential\n",
        "\n",
        "model = Sequential()\n",
        "model.add(Conv2D(32, (3, 3), activation='relu', padding='same', input_shape=(32, 32, 3)))\n",
        "model.add(BatchNormalization())\n",
        "\n",
        "model.add(Conv2D(32,(3,3), activation='relu'))\n",
        "model.add(BatchNormalization())\n",
        "model.add(MaxPooling2D((2, 2)))\n",
        "model.add(Dropout(0.25))\n",
        "\n",
        "model.add(Conv2D(64, (3, 3), activation='relu', padding='same'))\n",
        "model.add(BatchNormalization())\n",
        "\n",
        "model.add(Conv2D(64,(3,3), activation='relu'))\n",
        "model.add(BatchNormalization())\n",
        "model.add(MaxPooling2D((2, 2)))\n",
        "model.add(Dropout(0.25))\n",
        "\n",
        "model.add(Conv2D(128, (3, 3), activation='relu', padding='same'))\n",
        "model.add(BatchNormalization())\n",
        "\n",
        "model.add(Conv2D(128,(3,3), activation='relu'))\n",
        "model.add(BatchNormalization())\n",
        "model.add(MaxPooling2D((2, 2)))\n",
        "model.add(Dropout(0.25))\n",
        "\n",
        "\n",
        "model.add(Flatten())\n",
        "\n",
        "model.add(Dense(512, activation='relu'))\n",
        "model.add(Dense(10, activation='softmax'))\n",
        "\n",
        "model.summary()"
      ],
      "execution_count": 4,
      "outputs": [
        {
          "output_type": "stream",
          "text": [
            "Model: \"sequential\"\n",
            "_________________________________________________________________\n",
            "Layer (type)                 Output Shape              Param #   \n",
            "=================================================================\n",
            "conv2d (Conv2D)              (None, 32, 32, 32)        896       \n",
            "_________________________________________________________________\n",
            "batch_normalization (BatchNo (None, 32, 32, 32)        128       \n",
            "_________________________________________________________________\n",
            "conv2d_1 (Conv2D)            (None, 30, 30, 32)        9248      \n",
            "_________________________________________________________________\n",
            "batch_normalization_1 (Batch (None, 30, 30, 32)        128       \n",
            "_________________________________________________________________\n",
            "max_pooling2d (MaxPooling2D) (None, 15, 15, 32)        0         \n",
            "_________________________________________________________________\n",
            "dropout (Dropout)            (None, 15, 15, 32)        0         \n",
            "_________________________________________________________________\n",
            "conv2d_2 (Conv2D)            (None, 15, 15, 64)        18496     \n",
            "_________________________________________________________________\n",
            "batch_normalization_2 (Batch (None, 15, 15, 64)        256       \n",
            "_________________________________________________________________\n",
            "conv2d_3 (Conv2D)            (None, 13, 13, 64)        36928     \n",
            "_________________________________________________________________\n",
            "batch_normalization_3 (Batch (None, 13, 13, 64)        256       \n",
            "_________________________________________________________________\n",
            "max_pooling2d_1 (MaxPooling2 (None, 6, 6, 64)          0         \n",
            "_________________________________________________________________\n",
            "dropout_1 (Dropout)          (None, 6, 6, 64)          0         \n",
            "_________________________________________________________________\n",
            "conv2d_4 (Conv2D)            (None, 6, 6, 128)         73856     \n",
            "_________________________________________________________________\n",
            "batch_normalization_4 (Batch (None, 6, 6, 128)         512       \n",
            "_________________________________________________________________\n",
            "conv2d_5 (Conv2D)            (None, 4, 4, 128)         147584    \n",
            "_________________________________________________________________\n",
            "batch_normalization_5 (Batch (None, 4, 4, 128)         512       \n",
            "_________________________________________________________________\n",
            "max_pooling2d_2 (MaxPooling2 (None, 2, 2, 128)         0         \n",
            "_________________________________________________________________\n",
            "dropout_2 (Dropout)          (None, 2, 2, 128)         0         \n",
            "_________________________________________________________________\n",
            "flatten (Flatten)            (None, 512)               0         \n",
            "_________________________________________________________________\n",
            "dense (Dense)                (None, 512)               262656    \n",
            "_________________________________________________________________\n",
            "dense_1 (Dense)              (None, 10)                5130      \n",
            "=================================================================\n",
            "Total params: 556,586\n",
            "Trainable params: 555,690\n",
            "Non-trainable params: 896\n",
            "_________________________________________________________________\n"
          ],
          "name": "stdout"
        }
      ]
    },
    {
      "cell_type": "code",
      "metadata": {
        "id": "O-lW1saAmmNu"
      },
      "source": [
        "from keras import optimizers\n",
        "\n",
        "learning_rate = 1E-4  \n",
        "# to be tuned!\n",
        "\n",
        "model.compile(loss='categorical_crossentropy',\n",
        "              optimizer=optimizers.RMSprop(lr=learning_rate),\n",
        "              metrics=['acc'])"
      ],
      "execution_count": 5,
      "outputs": []
    },
    {
      "cell_type": "code",
      "metadata": {
        "id": "n4-VrCGHmmNv",
        "colab": {
          "base_uri": "https://localhost:8080/"
        },
        "outputId": "a5fef42d-a0e1-4417-a063-fb0837238379"
      },
      "source": [
        "history = model.fit(x_tr, y_tr, batch_size=32, epochs=30, validation_data=(x_val, y_val))"
      ],
      "execution_count": 6,
      "outputs": [
        {
          "output_type": "stream",
          "text": [
            "Epoch 1/30\n",
            "1250/1250 [==============================] - 13s 7ms/step - loss: 2.1081 - acc: 0.2771 - val_loss: 1.4540 - val_acc: 0.4768\n",
            "Epoch 2/30\n",
            "1250/1250 [==============================] - 8s 7ms/step - loss: 1.4784 - acc: 0.4633 - val_loss: 1.4419 - val_acc: 0.4980\n",
            "Epoch 3/30\n",
            "1250/1250 [==============================] - 8s 7ms/step - loss: 1.2800 - acc: 0.5432 - val_loss: 1.2095 - val_acc: 0.5701\n",
            "Epoch 4/30\n",
            "1250/1250 [==============================] - 8s 7ms/step - loss: 1.1514 - acc: 0.5895 - val_loss: 1.0719 - val_acc: 0.6243\n",
            "Epoch 5/30\n",
            "1250/1250 [==============================] - 8s 7ms/step - loss: 1.0525 - acc: 0.6283 - val_loss: 1.0453 - val_acc: 0.6416\n",
            "Epoch 6/30\n",
            "1250/1250 [==============================] - 8s 7ms/step - loss: 0.9680 - acc: 0.6562 - val_loss: 0.9710 - val_acc: 0.6689\n",
            "Epoch 7/30\n",
            "1250/1250 [==============================] - 8s 7ms/step - loss: 0.9123 - acc: 0.6818 - val_loss: 1.0142 - val_acc: 0.6614\n",
            "Epoch 8/30\n",
            "1250/1250 [==============================] - 8s 7ms/step - loss: 0.8605 - acc: 0.6949 - val_loss: 0.9059 - val_acc: 0.6966\n",
            "Epoch 9/30\n",
            "1250/1250 [==============================] - 8s 7ms/step - loss: 0.8090 - acc: 0.7194 - val_loss: 0.7918 - val_acc: 0.7285\n",
            "Epoch 10/30\n",
            "1250/1250 [==============================] - 8s 7ms/step - loss: 0.7645 - acc: 0.7306 - val_loss: 0.7738 - val_acc: 0.7362\n",
            "Epoch 11/30\n",
            "1250/1250 [==============================] - 8s 7ms/step - loss: 0.7243 - acc: 0.7449 - val_loss: 0.7167 - val_acc: 0.7568\n",
            "Epoch 12/30\n",
            "1250/1250 [==============================] - 8s 7ms/step - loss: 0.7030 - acc: 0.7541 - val_loss: 0.7235 - val_acc: 0.7512\n",
            "Epoch 13/30\n",
            "1250/1250 [==============================] - 8s 7ms/step - loss: 0.6708 - acc: 0.7657 - val_loss: 0.7331 - val_acc: 0.7565\n",
            "Epoch 14/30\n",
            "1250/1250 [==============================] - 8s 7ms/step - loss: 0.6317 - acc: 0.7769 - val_loss: 0.7575 - val_acc: 0.7469\n",
            "Epoch 15/30\n",
            "1250/1250 [==============================] - 8s 7ms/step - loss: 0.6082 - acc: 0.7853 - val_loss: 0.6626 - val_acc: 0.7781\n",
            "Epoch 16/30\n",
            "1250/1250 [==============================] - 8s 7ms/step - loss: 0.5815 - acc: 0.7941 - val_loss: 0.6532 - val_acc: 0.7766\n",
            "Epoch 17/30\n",
            "1250/1250 [==============================] - 8s 7ms/step - loss: 0.5680 - acc: 0.8022 - val_loss: 0.6442 - val_acc: 0.7874\n",
            "Epoch 18/30\n",
            "1250/1250 [==============================] - 8s 7ms/step - loss: 0.5425 - acc: 0.8086 - val_loss: 0.6520 - val_acc: 0.7820\n",
            "Epoch 19/30\n",
            "1250/1250 [==============================] - 8s 7ms/step - loss: 0.5265 - acc: 0.8115 - val_loss: 0.6515 - val_acc: 0.7834\n",
            "Epoch 20/30\n",
            "1250/1250 [==============================] - 8s 6ms/step - loss: 0.5099 - acc: 0.8189 - val_loss: 0.6748 - val_acc: 0.7800\n",
            "Epoch 21/30\n",
            "1250/1250 [==============================] - 8s 7ms/step - loss: 0.4846 - acc: 0.8270 - val_loss: 0.6325 - val_acc: 0.7964\n",
            "Epoch 22/30\n",
            "1250/1250 [==============================] - 8s 7ms/step - loss: 0.4739 - acc: 0.8331 - val_loss: 0.6452 - val_acc: 0.7885\n",
            "Epoch 23/30\n",
            "1250/1250 [==============================] - 8s 7ms/step - loss: 0.4503 - acc: 0.8415 - val_loss: 0.6462 - val_acc: 0.7912\n",
            "Epoch 24/30\n",
            "1250/1250 [==============================] - 8s 7ms/step - loss: 0.4450 - acc: 0.8405 - val_loss: 0.6273 - val_acc: 0.7954\n",
            "Epoch 25/30\n",
            "1250/1250 [==============================] - 8s 7ms/step - loss: 0.4228 - acc: 0.8509 - val_loss: 0.6374 - val_acc: 0.7931\n",
            "Epoch 26/30\n",
            "1250/1250 [==============================] - 8s 7ms/step - loss: 0.4214 - acc: 0.8506 - val_loss: 0.6015 - val_acc: 0.8030\n",
            "Epoch 27/30\n",
            "1250/1250 [==============================] - 8s 7ms/step - loss: 0.4011 - acc: 0.8619 - val_loss: 0.6990 - val_acc: 0.7778\n",
            "Epoch 28/30\n",
            "1250/1250 [==============================] - 8s 7ms/step - loss: 0.3837 - acc: 0.8657 - val_loss: 0.6276 - val_acc: 0.8016\n",
            "Epoch 29/30\n",
            "1250/1250 [==============================] - 8s 7ms/step - loss: 0.3699 - acc: 0.8680 - val_loss: 0.6586 - val_acc: 0.7935\n",
            "Epoch 30/30\n",
            "1250/1250 [==============================] - 8s 7ms/step - loss: 0.3651 - acc: 0.8689 - val_loss: 0.6345 - val_acc: 0.8016\n"
          ],
          "name": "stdout"
        }
      ]
    },
    {
      "cell_type": "code",
      "metadata": {
        "id": "zfZIa25SmmNv",
        "colab": {
          "base_uri": "https://localhost:8080/",
          "height": 279
        },
        "outputId": "0a843647-5d2b-4562-bb3b-623d329011b2"
      },
      "source": [
        "import matplotlib.pyplot as plt\n",
        "%matplotlib inline\n",
        "\n",
        "acc = history.history['acc']\n",
        "val_acc = history.history['val_acc']\n",
        "\n",
        "epochs = range(len(acc))\n",
        "\n",
        "plt.plot(epochs, acc, 'bo', label='Training acc')\n",
        "plt.plot(epochs, val_acc, 'r', label='Validation acc')\n",
        "plt.xlabel('Epochs')\n",
        "plt.ylabel('Accuracy')\n",
        "plt.legend()\n",
        "plt.show()"
      ],
      "execution_count": 7,
      "outputs": [
        {
          "output_type": "display_data",
          "data": {
            "image/png": "[encoded data removed]",
            "text/plain": [
              "<Figure size 432x288 with 1 Axes>"
            ]
          },
          "metadata": {
            "tags": [],
            "needs_background": "light"
          }
        }
      ]
    },
    {
      "cell_type": "markdown",
      "metadata": {
        "id": "ZjFyiSiemmNv"
      },
      "source": [
        "## 3. Train (again) and evaluate the model\n",
        "\n",
        "- To this end, you have found the \"best\" hyper-parameters. \n",
        "- Now, fix the hyper-parameters and train the network on the entire training set (all the 50K training samples)\n",
        "- Evaluate your model on the test set."
      ]
    },
    {
      "cell_type": "markdown",
      "metadata": {
        "id": "4aZfiOSVmmNw"
      },
      "source": [
        "### 3.1. Train the model on the entire training set\n",
        "\n",
        "Why? Previously, you used 40K samples for training; you wasted 10K samples for the sake of hyper-parameter tuning. Now you already know the hyper-parameters, so why not using all the 50K samples for training?"
      ]
    },
    {
      "cell_type": "code",
      "metadata": {
        "id": "jBHaZEPammNw"
      },
      "source": [
        "# <Compile your model again (using the same hyper-parameters)>\n",
        "# ...\n",
        "\n",
        "from keras import optimizers\n",
        "\n",
        "learning_rate = 1E-4  \n",
        "# to be tuned!\n",
        "\n",
        "model.compile(loss='categorical_crossentropy',\n",
        "              optimizer=optimizers.RMSprop(lr=learning_rate),\n",
        "              metrics=['acc'])"
      ],
      "execution_count": 8,
      "outputs": []
    },
    {
      "cell_type": "code",
      "metadata": {
        "id": "n7opVD0CmmNw",
        "colab": {
          "base_uri": "https://localhost:8080/"
        },
        "outputId": "925e1e5c-329e-4736-fd4d-6e6c8454730a"
      },
      "source": [
        "# <Train your model on the entire training set (50K samples)>\n",
        "# <Use (x_train, y_train_vec) instead of (x_tr, y_tr)>\n",
        "# <Do NOT use the validation_data option (because now you do not have validation data)>\n",
        "# ...\n",
        "history = model.fit(x_train, y_train_vec, batch_size=32, epochs=30)"
      ],
      "execution_count": 9,
      "outputs": [
        {
          "output_type": "stream",
          "text": [
            "Epoch 1/30\n",
            "1563/1563 [==============================] - 11s 6ms/step - loss: 0.4460 - acc: 0.8485\n",
            "Epoch 2/30\n",
            "1563/1563 [==============================] - 10s 6ms/step - loss: 0.4125 - acc: 0.8564\n",
            "Epoch 3/30\n",
            "1563/1563 [==============================] - 10s 6ms/step - loss: 0.4016 - acc: 0.8599\n",
            "Epoch 4/30\n",
            "1563/1563 [==============================] - 10s 6ms/step - loss: 0.3835 - acc: 0.8638\n",
            "Epoch 5/30\n",
            "1563/1563 [==============================] - 10s 6ms/step - loss: 0.3850 - acc: 0.8663\n",
            "Epoch 6/30\n",
            "1563/1563 [==============================] - 10s 6ms/step - loss: 0.3674 - acc: 0.8704\n",
            "Epoch 7/30\n",
            "1563/1563 [==============================] - 10s 6ms/step - loss: 0.3585 - acc: 0.8746\n",
            "Epoch 8/30\n",
            "1563/1563 [==============================] - 10s 6ms/step - loss: 0.3399 - acc: 0.8800\n",
            "Epoch 9/30\n",
            "1563/1563 [==============================] - 10s 6ms/step - loss: 0.3282 - acc: 0.8842\n",
            "Epoch 10/30\n",
            "1563/1563 [==============================] - 10s 6ms/step - loss: 0.3259 - acc: 0.8847\n",
            "Epoch 11/30\n",
            "1563/1563 [==============================] - 10s 6ms/step - loss: 0.3111 - acc: 0.8902\n",
            "Epoch 12/30\n",
            "1563/1563 [==============================] - 10s 6ms/step - loss: 0.3047 - acc: 0.8930\n",
            "Epoch 13/30\n",
            "1563/1563 [==============================] - 10s 6ms/step - loss: 0.3014 - acc: 0.8933\n",
            "Epoch 14/30\n",
            "1563/1563 [==============================] - 10s 6ms/step - loss: 0.2859 - acc: 0.8978\n",
            "Epoch 15/30\n",
            "1563/1563 [==============================] - 10s 6ms/step - loss: 0.2796 - acc: 0.9008\n",
            "Epoch 16/30\n",
            "1563/1563 [==============================] - 10s 6ms/step - loss: 0.2763 - acc: 0.9001\n",
            "Epoch 17/30\n",
            "1563/1563 [==============================] - 10s 6ms/step - loss: 0.2695 - acc: 0.9059\n",
            "Epoch 18/30\n",
            "1563/1563 [==============================] - 10s 6ms/step - loss: 0.2590 - acc: 0.9071\n",
            "Epoch 19/30\n",
            "1563/1563 [==============================] - 10s 6ms/step - loss: 0.2677 - acc: 0.9073\n",
            "Epoch 20/30\n",
            "1563/1563 [==============================] - 10s 6ms/step - loss: 0.2471 - acc: 0.9122\n",
            "Epoch 21/30\n",
            "1563/1563 [==============================] - 10s 6ms/step - loss: 0.2468 - acc: 0.9117\n",
            "Epoch 22/30\n",
            "1563/1563 [==============================] - 10s 6ms/step - loss: 0.2494 - acc: 0.9116\n",
            "Epoch 23/30\n",
            "1563/1563 [==============================] - 10s 6ms/step - loss: 0.2343 - acc: 0.9185\n",
            "Epoch 24/30\n",
            "1563/1563 [==============================] - 10s 6ms/step - loss: 0.2392 - acc: 0.9151\n",
            "Epoch 25/30\n",
            "1563/1563 [==============================] - 10s 6ms/step - loss: 0.2307 - acc: 0.9197\n",
            "Epoch 26/30\n",
            "1563/1563 [==============================] - 10s 6ms/step - loss: 0.2275 - acc: 0.9177\n",
            "Epoch 27/30\n",
            "1563/1563 [==============================] - 10s 6ms/step - loss: 0.2159 - acc: 0.9237\n",
            "Epoch 28/30\n",
            "1563/1563 [==============================] - 10s 6ms/step - loss: 0.2145 - acc: 0.9250\n",
            "Epoch 29/30\n",
            "1563/1563 [==============================] - 10s 6ms/step - loss: 0.2085 - acc: 0.9250\n",
            "Epoch 30/30\n",
            "1563/1563 [==============================] - 10s 6ms/step - loss: 0.2070 - acc: 0.9258\n"
          ],
          "name": "stdout"
        }
      ]
    },
    {
      "cell_type": "markdown",
      "metadata": {
        "id": "5tHYfUUEmmNw"
      },
      "source": [
        "### 3.2. Evaluate the model on the test set\n",
        "\n",
        "Do NOT used the test set until now. Make sure that your model parameters and hyper-parameters are independent of the test set."
      ]
    },
    {
      "cell_type": "code",
      "metadata": {
        "id": "Xf8IUu7lmmNw",
        "colab": {
          "base_uri": "https://localhost:8080/"
        },
        "outputId": "6c649335-0d76-4c3c-d383-6f5d5172a9f2"
      },
      "source": [
        "loss_and_acc = model.evaluate(x_test, y_test_vec)\n",
        "print('loss = ' + str(loss_and_acc[0]))\n",
        "print('accuracy = ' + str(loss_and_acc[1]))"
      ],
      "execution_count": 10,
      "outputs": [
        {
          "output_type": "stream",
          "text": [
            "313/313 [==============================] - 1s 3ms/step - loss: 0.6154 - acc: 0.8358\n",
            "loss = 0.6154413819313049\n",
            "accuracy = 0.8357999920845032\n"
          ],
          "name": "stdout"
        }
      ]
    },
    {
      "cell_type": "code",
      "metadata": {
        "id": "cduAlzwDmmNx"
      },
      "source": [
        ""
      ],
      "execution_count": 10,
      "outputs": []
    }
  ]
}
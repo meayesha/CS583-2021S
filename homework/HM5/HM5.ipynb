{
  "nbformat": 4,
  "nbformat_minor": 0,
  "metadata": {
    "kernelspec": {
      "display_name": "Python 3",
      "language": "python",
      "name": "python3"
    },
    "language_info": {
      "codemirror_mode": {
        "name": "ipython",
        "version": 3
      },
      "file_extension": ".py",
      "mimetype": "text/x-python",
      "name": "python",
      "nbconvert_exporter": "python",
      "pygments_lexer": "ipython3",
      "version": "3.7.6"
    },
    "colab": {
      "name": "HM5.ipynb",
      "provenance": [],
      "collapsed_sections": [],
      "toc_visible": true
    },
    "accelerator": "GPU"
  },
  "cells": [
    {
      "cell_type": "markdown",
      "metadata": {
        "id": "HDxcVJH0Dvcv"
      },
      "source": [
        "# Home 5: Build a seq2seq model for machine translation.\n",
        "\n",
        "### Name: Ayesha Parveen\n",
        "\n",
        "### Task: Translate English to French"
      ]
    },
    {
      "cell_type": "markdown",
      "metadata": {
        "id": "PWxTeFmvDve7"
      },
      "source": [
        "## 0. You will do the following:\n",
        "\n",
        "1. Read and run my code.\n",
        "2. Complete the code in Section 1.1 and Section 4.2.\n",
        "\n",
        "    * Translation **English** to **German** is not acceptable!!! Try another pair of languages.\n",
        "    \n",
        "3. **Make improvements.** Directly modify the code in Section 3. Do at least one of the two. By doing both correctly, you will get up to 1 bonus score to the total.\n",
        "\n",
        "    * Bi-LSTM instead of LSTM.\n",
        "        \n",
        "    * Attention. (You are allowed to use existing code.)\n",
        "    \n",
        "4. Evaluate the translation using the BLEU score. \n",
        "\n",
        "    * Optional. Up to 1 bonus scores to the total.\n",
        "    \n",
        "5. Convert the notebook to .HTML file. \n",
        "\n",
        "    * The HTML file must contain the code and the output after execution.\n",
        "\n",
        "6. Put the .HTML file in your Google Drive, Dropbox, or Github repo.  (If you submit the file to Google Drive or Dropbox, you must make the file \"open-access\". The delay caused by \"deny of access\" may result in late penalty.)\n",
        "\n",
        "7. Submit the link to the HTML file to Canvas.    \n"
      ]
    },
    {
      "cell_type": "markdown",
      "metadata": {
        "id": "LztWcEdPDvfH"
      },
      "source": [
        "### Hint: \n",
        "\n",
        "To implement ```Bi-LSTM```, you will need the following code to build the encoder. Do NOT use Bi-LSTM for the decoder."
      ]
    },
    {
      "cell_type": "code",
      "metadata": {
        "id": "_XrjjzjzDvfI"
      },
      "source": [
        "# from keras.layers import Bidirectional, Concatenate\n",
        "\n",
        "# encoder_bilstm = Bidirectional(LSTM(latent_dim, return_state=True, \n",
        "#                                   dropout=0.5, name='encoder_lstm'))\n",
        "# _, forward_h, forward_c, backward_h, backward_c = encoder_bilstm(encoder_inputs)\n",
        "\n",
        "# state_h = Concatenate()([forward_h, backward_h])\n",
        "# state_c = Concatenate()([forward_c, backward_c])"
      ],
      "execution_count": 1,
      "outputs": []
    },
    {
      "cell_type": "markdown",
      "metadata": {
        "id": "dNaa2D32DvfT"
      },
      "source": [
        "## 1. Data preparation\n",
        "\n",
        "1. Download data (e.g., \"deu-eng.zip\") from http://www.manythings.org/anki/\n",
        "2. Unzip the .ZIP file.\n",
        "3. Put the .TXT file (e.g., \"deu.txt\") in the directory \"./Data/\"."
      ]
    },
    {
      "cell_type": "markdown",
      "metadata": {
        "id": "TX5ULxI7DvfV"
      },
      "source": [
        "### 1.1. Load and clean text\n"
      ]
    },
    {
      "cell_type": "code",
      "metadata": {
        "id": "7p5TfcG3DvfV"
      },
      "source": [
        "import re\n",
        "import string\n",
        "from unicodedata import normalize\n",
        "import numpy\n",
        "\n",
        "# load doc into memory\n",
        "def load_doc(filename):\n",
        "    # open the file as read only\n",
        "    file = open(filename, mode='rt', encoding='utf-8')\n",
        "    # read all text\n",
        "    text = file.read()\n",
        "    # close the file\n",
        "    file.close()\n",
        "    return text\n",
        "\n",
        "\n",
        "# split a loaded document into sentences\n",
        "def to_pairs(doc):\n",
        "    lines = doc.strip().split('\\n')\n",
        "    pairs = [line.split('\\t') for line in  lines]\n",
        "    return pairs\n",
        "\n",
        "def clean_data(lines):\n",
        "    cleaned = list()\n",
        "    # prepare regex for char filtering\n",
        "    re_print = re.compile('[^%s]' % re.escape(string.printable))\n",
        "    # prepare translation table for removing punctuation\n",
        "    table = str.maketrans('', '', string.punctuation)\n",
        "    for pair in lines:\n",
        "        clean_pair = list()\n",
        "        for line in pair:\n",
        "            # normalize unicode characters\n",
        "            line = normalize('NFD', line).encode('ascii', 'ignore')\n",
        "            line = line.decode('UTF-8')\n",
        "            # tokenize on white space\n",
        "            line = line.split()\n",
        "            # convert to lowercase\n",
        "            line = [word.lower() for word in line]\n",
        "            # remove punctuation from each token\n",
        "            line = [word.translate(table) for word in line]\n",
        "            # remove non-printable chars form each token\n",
        "            line = [re_print.sub('', w) for w in line]\n",
        "            # remove tokens with numbers in them\n",
        "            line = [word for word in line if word.isalpha()]\n",
        "            # store as string\n",
        "            clean_pair.append(' '.join(line))\n",
        "        cleaned.append(clean_pair)\n",
        "    return numpy.array(cleaned)"
      ],
      "execution_count": 2,
      "outputs": []
    },
    {
      "cell_type": "markdown",
      "metadata": {
        "id": "Jso1Xy0aDvfW"
      },
      "source": [
        "#### Fill the following blanks:"
      ]
    },
    {
      "cell_type": "code",
      "metadata": {
        "id": "C5lkM91RDvfX"
      },
      "source": [
        "# e.g., filename = 'Data/deu.txt'\n",
        "filename = 'Data/fra.txt'\n",
        "# e.g., n_train = 20000\n",
        "n_train = 40000"
      ],
      "execution_count": 11,
      "outputs": []
    },
    {
      "cell_type": "code",
      "metadata": {
        "colab": {
          "base_uri": "https://localhost:8080/"
        },
        "id": "AXsdFkJlDvfZ",
        "outputId": "611511a1-1aa2-4c26-fc90-0037a5f4c0a0"
      },
      "source": [
        "# load dataset\n",
        "doc = load_doc(filename)\n",
        "\n",
        "# split into Language1-Language2 pairs\n",
        "pairs = to_pairs(doc)\n",
        "\n",
        "# clean sentences\n",
        "clean_pairs = clean_data(pairs)[0:n_train, :]\n",
        "print(clean_pairs)"
      ],
      "execution_count": 12,
      "outputs": [
        {
          "output_type": "stream",
          "text": [
            "[['go' 'va' 'ccby france attribution tatoebaorg cm wittydev']\n",
            " ['go' 'marche' 'ccby france attribution tatoebaorg cm micsmithel']\n",
            " ['go' 'bouge' 'ccby france attribution tatoebaorg cm micsmithel']\n",
            " ...\n",
            " ['i have a new red car' 'jai une nouvelle voiture rouge'\n",
            "  'ccby france attribution tatoebaorg ck elgranjuego']\n",
            " ['i have a reservation' 'jai une reservation'\n",
            "  'ccby france attribution tatoebaorg ck aiji']\n",
            " ['i have a reservation' 'jai une reserve'\n",
            "  'ccby france attribution tatoebaorg ck sacredceltic']]\n"
          ],
          "name": "stdout"
        }
      ]
    },
    {
      "cell_type": "code",
      "metadata": {
        "colab": {
          "base_uri": "https://localhost:8080/"
        },
        "id": "V-Z_thgADvfa",
        "outputId": "8070503e-d1c5-4bce-b36c-571d0f9dd663"
      },
      "source": [
        "for i in range(3000, 3010):\n",
        "    print('[' + clean_pairs[i, 0] + '] => [' + clean_pairs[i, 1] + ']')"
      ],
      "execution_count": 13,
      "outputs": [
        {
          "output_type": "stream",
          "text": [
            "[i messed up] => [jai foire]\n",
            "[i messed up] => [jai degueulasse]\n",
            "[i messed up] => [jai sali]\n",
            "[i messed up] => [jai mis la pagaille]\n",
            "[i messed up] => [jai mis le souk]\n",
            "[i must hide] => [je dois me cacher]\n",
            "[i must obey] => [il me faut obeir]\n",
            "[i must obey] => [je dois obeir]\n",
            "[i nailed it] => [cest dans la poche]\n",
            "[i nailed it] => [je lai cloue]\n"
          ],
          "name": "stdout"
        }
      ]
    },
    {
      "cell_type": "code",
      "metadata": {
        "colab": {
          "base_uri": "https://localhost:8080/"
        },
        "id": "vVu7MxdzDvfb",
        "outputId": "b3e0caa6-9b28-4a95-8f09-a7d9f43805ea"
      },
      "source": [
        "input_texts = clean_pairs[:, 0]\n",
        "target_texts = ['\\t' + text + '\\n' for text in clean_pairs[:, 1]]\n",
        "\n",
        "print('Length of input_texts:  ' + str(input_texts.shape))\n",
        "print('Length of target_texts: ' + str(input_texts.shape))"
      ],
      "execution_count": 14,
      "outputs": [
        {
          "output_type": "stream",
          "text": [
            "Length of input_texts:  (40000,)\n",
            "Length of target_texts: (40000,)\n"
          ],
          "name": "stdout"
        }
      ]
    },
    {
      "cell_type": "code",
      "metadata": {
        "colab": {
          "base_uri": "https://localhost:8080/"
        },
        "id": "OAOiEWGTDvft",
        "outputId": "629c4818-819b-4cf9-9ff1-c83ad01e5a3e"
      },
      "source": [
        "max_encoder_seq_length = max(len(line) for line in input_texts)\n",
        "max_decoder_seq_length = max(len(line) for line in target_texts)\n",
        "\n",
        "print('max length of input  sentences: %d' % (max_encoder_seq_length))\n",
        "print('max length of target sentences: %d' % (max_decoder_seq_length))"
      ],
      "execution_count": 15,
      "outputs": [
        {
          "output_type": "stream",
          "text": [
            "max length of input  sentences: 20\n",
            "max length of target sentences: 63\n"
          ],
          "name": "stdout"
        }
      ]
    },
    {
      "cell_type": "markdown",
      "metadata": {
        "id": "2uoRBBWBDvfu"
      },
      "source": [
        "**Remark:** To this end, you have two lists of sentences: input_texts and target_texts"
      ]
    },
    {
      "cell_type": "markdown",
      "metadata": {
        "id": "J1l0q_NpDvf4"
      },
      "source": [
        "## 2. Text processing\n",
        "\n",
        "### 2.1. Convert texts to sequences\n",
        "\n",
        "- Input: A list of $n$ sentences (with max length $t$).\n",
        "- It is represented by a $n\\times t$ matrix after the tokenization and zero-padding."
      ]
    },
    {
      "cell_type": "code",
      "metadata": {
        "colab": {
          "base_uri": "https://localhost:8080/"
        },
        "id": "CTRdnahrDvf4",
        "outputId": "b1a1b68f-687c-457b-ce06-0927fcbb06ef"
      },
      "source": [
        "from keras.preprocessing.text import Tokenizer\n",
        "from keras.preprocessing.sequence import pad_sequences\n",
        "\n",
        "# encode and pad sequences\n",
        "def text2sequences(max_len, lines):\n",
        "    tokenizer = Tokenizer(char_level=True, filters='')\n",
        "    tokenizer.fit_on_texts(lines)\n",
        "    seqs = tokenizer.texts_to_sequences(lines)\n",
        "    seqs_pad = pad_sequences(seqs, maxlen=max_len, padding='post')\n",
        "    return seqs_pad, tokenizer.word_index\n",
        "\n",
        "\n",
        "encoder_input_seq, input_token_index = text2sequences(max_encoder_seq_length, \n",
        "                                                      input_texts)\n",
        "decoder_input_seq, target_token_index = text2sequences(max_decoder_seq_length, \n",
        "                                                       target_texts)\n",
        "\n",
        "print('shape of encoder_input_seq: ' + str(encoder_input_seq.shape))\n",
        "print('shape of input_token_index: ' + str(len(input_token_index)))\n",
        "print('shape of decoder_input_seq: ' + str(decoder_input_seq.shape))\n",
        "print('shape of target_token_index: ' + str(len(target_token_index)))"
      ],
      "execution_count": 16,
      "outputs": [
        {
          "output_type": "stream",
          "text": [
            "shape of encoder_input_seq: (40000, 20)\n",
            "shape of input_token_index: 27\n",
            "shape of decoder_input_seq: (40000, 63)\n",
            "shape of target_token_index: 29\n"
          ],
          "name": "stdout"
        }
      ]
    },
    {
      "cell_type": "code",
      "metadata": {
        "colab": {
          "base_uri": "https://localhost:8080/"
        },
        "id": "6Qa_1GaFDvf5",
        "outputId": "a8ec6bd0-adc2-402d-e830-5c4341e38181"
      },
      "source": [
        "num_encoder_tokens = len(input_token_index) + 1\n",
        "num_decoder_tokens = len(target_token_index) + 1\n",
        "\n",
        "print('num_encoder_tokens: ' + str(num_encoder_tokens))\n",
        "print('num_decoder_tokens: ' + str(num_decoder_tokens))"
      ],
      "execution_count": 17,
      "outputs": [
        {
          "output_type": "stream",
          "text": [
            "num_encoder_tokens: 28\n",
            "num_decoder_tokens: 30\n"
          ],
          "name": "stdout"
        }
      ]
    },
    {
      "cell_type": "markdown",
      "metadata": {
        "id": "p5FQwdFtDvf6"
      },
      "source": [
        "**Remark:** To this end, the input language and target language texts are converted to 2 matrices. \n",
        "\n",
        "- Their number of rows are both n_train.\n",
        "- Their number of columns are respective max_encoder_seq_length and max_decoder_seq_length."
      ]
    },
    {
      "cell_type": "markdown",
      "metadata": {
        "id": "_Ke7QZKODvf6"
      },
      "source": [
        "The followings print a sentence and its representation as a sequence."
      ]
    },
    {
      "cell_type": "code",
      "metadata": {
        "colab": {
          "base_uri": "https://localhost:8080/",
          "height": 35
        },
        "id": "UBVscaRoDvf7",
        "outputId": "52024d9e-a153-44f3-abf9-3ee8fcc8d8e8"
      },
      "source": [
        "target_texts[100]"
      ],
      "execution_count": 18,
      "outputs": [
        {
          "output_type": "execute_result",
          "data": {
            "application/vnd.google.colaboratory.intrinsic+json": {
              "type": "string"
            },
            "text/plain": [
              "'\\tje payai\\n'"
            ]
          },
          "metadata": {
            "tags": []
          },
          "execution_count": 18
        }
      ]
    },
    {
      "cell_type": "code",
      "metadata": {
        "colab": {
          "base_uri": "https://localhost:8080/"
        },
        "id": "mEK7iimpDvf7",
        "outputId": "1ccd8de9-7a37-45cb-f0bf-bc699f8c28a1"
      },
      "source": [
        "decoder_input_seq[100, :]"
      ],
      "execution_count": 19,
      "outputs": [
        {
          "output_type": "execute_result",
          "data": {
            "text/plain": [
              "array([10, 19,  1,  2, 16,  4, 27,  4,  6, 11,  0,  0,  0,  0,  0,  0,  0,\n",
              "        0,  0,  0,  0,  0,  0,  0,  0,  0,  0,  0,  0,  0,  0,  0,  0,  0,\n",
              "        0,  0,  0,  0,  0,  0,  0,  0,  0,  0,  0,  0,  0,  0,  0,  0,  0,\n",
              "        0,  0,  0,  0,  0,  0,  0,  0,  0,  0,  0,  0], dtype=int32)"
            ]
          },
          "metadata": {
            "tags": []
          },
          "execution_count": 19
        }
      ]
    },
    {
      "cell_type": "markdown",
      "metadata": {
        "id": "qc1ZEHF4Dvf7"
      },
      "source": [
        "## 2.2. One-hot encode\n",
        "\n",
        "- Input: A list of $n$ sentences (with max length $t$).\n",
        "- It is represented by a $n\\times t$ matrix after the tokenization and zero-padding.\n",
        "- It is represented by a $n\\times t \\times v$ tensor ($t$ is the number of unique chars) after the one-hot encoding."
      ]
    },
    {
      "cell_type": "code",
      "metadata": {
        "colab": {
          "base_uri": "https://localhost:8080/"
        },
        "id": "ayoUXiA9Dvf8",
        "outputId": "77d92518-e032-4ac7-f45b-ff7862469f92"
      },
      "source": [
        "from keras.utils import to_categorical\n",
        "\n",
        "# one hot encode target sequence\n",
        "def onehot_encode(sequences, max_len, vocab_size):\n",
        "    n = len(sequences)\n",
        "    data = numpy.zeros((n, max_len, vocab_size))\n",
        "    for i in range(n):\n",
        "        data[i, :, :] = to_categorical(sequences[i], num_classes=vocab_size)\n",
        "    return data\n",
        "\n",
        "encoder_input_data = onehot_encode(encoder_input_seq, max_encoder_seq_length, num_encoder_tokens)\n",
        "decoder_input_data = onehot_encode(decoder_input_seq, max_decoder_seq_length, num_decoder_tokens)\n",
        "\n",
        "decoder_target_seq = numpy.zeros(decoder_input_seq.shape)\n",
        "decoder_target_seq[:, 0:-1] = decoder_input_seq[:, 1:]\n",
        "decoder_target_data = onehot_encode(decoder_target_seq, \n",
        "                                    max_decoder_seq_length, \n",
        "                                    num_decoder_tokens)\n",
        "\n",
        "print(encoder_input_data.shape)\n",
        "print(decoder_input_data.shape)"
      ],
      "execution_count": 20,
      "outputs": [
        {
          "output_type": "stream",
          "text": [
            "(40000, 20, 28)\n",
            "(40000, 63, 30)\n"
          ],
          "name": "stdout"
        }
      ]
    },
    {
      "cell_type": "markdown",
      "metadata": {
        "id": "lIl9XAWdDvf8"
      },
      "source": [
        "## 3. Build the networks (for training)\n",
        "\n",
        "- Build encoder, decoder, and connect the two modules to get \"model\". \n",
        "\n",
        "- Fit the model on the bilingual data to train the parameters in the encoder and decoder."
      ]
    },
    {
      "cell_type": "markdown",
      "metadata": {
        "id": "McNVbBMnDvf8"
      },
      "source": [
        "### 3.1. Encoder network\n",
        "\n",
        "- Input:  one-hot encode of the input language\n",
        "\n",
        "- Return: \n",
        "\n",
        "    -- output (all the hidden states   $h_1, \\cdots , h_t$) are always discarded\n",
        "    \n",
        "    -- the final hidden state  $h_t$\n",
        "    \n",
        "    -- the final conveyor belt $c_t$"
      ]
    },
    {
      "cell_type": "code",
      "metadata": {
        "id": "N2gJCWT_Dvf9"
      },
      "source": [
        "from keras.layers import Input, LSTM\n",
        "from keras.models import Model\n",
        "from keras.layers import Bidirectional, Concatenate\n",
        "latent_dim = 256\n",
        "\n",
        "# inputs of the encoder network\n",
        "encoder_inputs = Input(shape=(None, num_encoder_tokens), \n",
        "                       name='encoder_inputs')\n",
        "\n",
        "# set the LSTM layer\n",
        "# encoder_lstm = LSTM(latent_dim, return_state=True, \n",
        "#                     dropout=0.5, name='encoder_lstm')\n",
        "# _, state_h, state_c = encoder_lstm(encoder_inputs)\n",
        "\n",
        "# set the Bi-LSTM layer\n",
        "encoder_bilstm =Bidirectional (LSTM(latent_dim, return_state=True, \n",
        "                    dropout=0.5, name='encoder_lstm'))\n",
        "_, forward_c, forward_h,backward_c,backward_h = encoder_bilstm(encoder_inputs)\n",
        "\n",
        "state_c = Concatenate()([forward_c, backward_c])\n",
        "state_h = Concatenate()([forward_h, backward_h])\n",
        "\n",
        "# build the encoder network model\n",
        "encoder_model = Model(inputs=encoder_inputs, \n",
        "                      outputs=[state_h, state_c],\n",
        "                      name='encoder')"
      ],
      "execution_count": 21,
      "outputs": []
    },
    {
      "cell_type": "markdown",
      "metadata": {
        "id": "1KDN9wPuDvf9"
      },
      "source": [
        "Print a summary and save the encoder network structure to \"./encoder.pdf\""
      ]
    },
    {
      "cell_type": "code",
      "metadata": {
        "colab": {
          "base_uri": "https://localhost:8080/"
        },
        "id": "8wsOznXSDvf9",
        "outputId": "005112fd-403b-42e9-beff-99e35b180622"
      },
      "source": [
        "from IPython.display import SVG\n",
        "from keras.utils.vis_utils import model_to_dot, plot_model\n",
        "\n",
        "SVG(model_to_dot(encoder_model, show_shapes=False).create(prog='dot', format='svg'))\n",
        "\n",
        "plot_model(\n",
        "    model=encoder_model, show_shapes=False,\n",
        "    to_file='encoder.pdf'\n",
        ")\n",
        "\n",
        "encoder_model.summary()"
      ],
      "execution_count": 22,
      "outputs": [
        {
          "output_type": "stream",
          "text": [
            "Model: \"encoder\"\n",
            "__________________________________________________________________________________________________\n",
            "Layer (type)                    Output Shape         Param #     Connected to                     \n",
            "==================================================================================================\n",
            "encoder_inputs (InputLayer)     [(None, None, 28)]   0                                            \n",
            "__________________________________________________________________________________________________\n",
            "bidirectional (Bidirectional)   [(None, 512), (None, 583680      encoder_inputs[0][0]             \n",
            "__________________________________________________________________________________________________\n",
            "concatenate_1 (Concatenate)     (None, 512)          0           bidirectional[0][2]              \n",
            "                                                                 bidirectional[0][4]              \n",
            "__________________________________________________________________________________________________\n",
            "concatenate (Concatenate)       (None, 512)          0           bidirectional[0][1]              \n",
            "                                                                 bidirectional[0][3]              \n",
            "==================================================================================================\n",
            "Total params: 583,680\n",
            "Trainable params: 583,680\n",
            "Non-trainable params: 0\n",
            "__________________________________________________________________________________________________\n"
          ],
          "name": "stdout"
        }
      ]
    },
    {
      "cell_type": "markdown",
      "metadata": {
        "id": "_vv8bnoADvf9"
      },
      "source": [
        "### 3.2. Decoder network\n",
        "\n",
        "- Inputs:  \n",
        "\n",
        "    -- one-hot encode of the target language\n",
        "    \n",
        "    -- The initial hidden state $h_t$ \n",
        "    \n",
        "    -- The initial conveyor belt $c_t$ \n",
        "\n",
        "- Return: \n",
        "\n",
        "    -- output (all the hidden states) $h_1, \\cdots , h_t$\n",
        "\n",
        "    -- the final hidden state  $h_t$ (discarded in the training and used in the prediction)\n",
        "    \n",
        "    -- the final conveyor belt $c_t$ (discarded in the training and used in the prediction)"
      ]
    },
    {
      "cell_type": "code",
      "metadata": {
        "id": "_2co63TSDvf_"
      },
      "source": [
        "from keras.layers import Input, LSTM, Dense\n",
        "from keras.models import Model\n",
        "\n",
        "# inputs of the decoder network\n",
        "decoder_input_h = Input(shape=(latent_dim*2,), name='decoder_input_h')\n",
        "decoder_input_c = Input(shape=(latent_dim*2,), name='decoder_input_c')\n",
        "decoder_input_x = Input(shape=(None, num_decoder_tokens), name='decoder_input_x')\n",
        "\n",
        "# set the LSTM layer\n",
        "decoder_lstm = LSTM(latent_dim*2, return_sequences=True, \n",
        "                    return_state=True, dropout=0.5, name='decoder_lstm')\n",
        "decoder_lstm_outputs, state_h, state_c = decoder_lstm(decoder_input_x, \n",
        "                                                      initial_state=[decoder_input_h, decoder_input_c])\n",
        "\n",
        "# set the dense layer\n",
        "decoder_dense = Dense(num_decoder_tokens, activation='softmax', name='decoder_dense')\n",
        "decoder_outputs = decoder_dense(decoder_lstm_outputs)\n",
        "\n",
        "# build the decoder network model\n",
        "decoder_model = Model(inputs=[decoder_input_x, decoder_input_h, decoder_input_c],\n",
        "                      outputs=[decoder_outputs, state_h, state_c],\n",
        "                      name='decoder')"
      ],
      "execution_count": 23,
      "outputs": []
    },
    {
      "cell_type": "markdown",
      "metadata": {
        "id": "fWB6ZBGkDvf_"
      },
      "source": [
        "Print a summary and save the encoder network structure to \"./decoder.pdf\""
      ]
    },
    {
      "cell_type": "code",
      "metadata": {
        "colab": {
          "base_uri": "https://localhost:8080/"
        },
        "id": "y6rAo2QEDvgF",
        "outputId": "633b62a8-15f3-458e-b305-637bcce9c9cc"
      },
      "source": [
        "from IPython.display import SVG\n",
        "from keras.utils.vis_utils import model_to_dot, plot_model\n",
        "\n",
        "SVG(model_to_dot(decoder_model, show_shapes=False).create(prog='dot', format='svg'))\n",
        "\n",
        "plot_model(\n",
        "    model=decoder_model, show_shapes=False,\n",
        "    to_file='decoder.pdf'\n",
        ")\n",
        "\n",
        "decoder_model.summary()"
      ],
      "execution_count": 24,
      "outputs": [
        {
          "output_type": "stream",
          "text": [
            "Model: \"decoder\"\n",
            "__________________________________________________________________________________________________\n",
            "Layer (type)                    Output Shape         Param #     Connected to                     \n",
            "==================================================================================================\n",
            "decoder_input_x (InputLayer)    [(None, None, 30)]   0                                            \n",
            "__________________________________________________________________________________________________\n",
            "decoder_input_h (InputLayer)    [(None, 512)]        0                                            \n",
            "__________________________________________________________________________________________________\n",
            "decoder_input_c (InputLayer)    [(None, 512)]        0                                            \n",
            "__________________________________________________________________________________________________\n",
            "decoder_lstm (LSTM)             [(None, None, 512),  1112064     decoder_input_x[0][0]            \n",
            "                                                                 decoder_input_h[0][0]            \n",
            "                                                                 decoder_input_c[0][0]            \n",
            "__________________________________________________________________________________________________\n",
            "decoder_dense (Dense)           (None, None, 30)     15390       decoder_lstm[0][0]               \n",
            "==================================================================================================\n",
            "Total params: 1,127,454\n",
            "Trainable params: 1,127,454\n",
            "Non-trainable params: 0\n",
            "__________________________________________________________________________________________________\n"
          ],
          "name": "stdout"
        }
      ]
    },
    {
      "cell_type": "markdown",
      "metadata": {
        "id": "3JGVTfjYDvgF"
      },
      "source": [
        "### 3.3. Connect the encoder and decoder"
      ]
    },
    {
      "cell_type": "code",
      "metadata": {
        "id": "neWpRHojDvgF"
      },
      "source": [
        "# input layers\n",
        "encoder_input_x = Input(shape=(None, num_encoder_tokens), name='encoder_input_x')\n",
        "decoder_input_x = Input(shape=(None, num_decoder_tokens), name='decoder_input_x')\n",
        "\n",
        "# connect encoder to decoder\n",
        "encoder_final_states = encoder_model([encoder_input_x])\n",
        "decoder_lstm_output, _, _ = decoder_lstm(decoder_input_x, initial_state=encoder_final_states)\n",
        "decoder_pred = decoder_dense(decoder_lstm_output)\n",
        "\n",
        "model = Model(inputs=[encoder_input_x, decoder_input_x], \n",
        "              outputs=decoder_pred, \n",
        "              name='model_training')"
      ],
      "execution_count": 25,
      "outputs": []
    },
    {
      "cell_type": "code",
      "metadata": {
        "colab": {
          "base_uri": "https://localhost:8080/"
        },
        "id": "v70MjH_NDvgF",
        "outputId": "eec57972-3939-4346-e124-b12fe1f0737f"
      },
      "source": [
        "print(state_h)\n",
        "print(decoder_input_h)"
      ],
      "execution_count": 26,
      "outputs": [
        {
          "output_type": "stream",
          "text": [
            "KerasTensor(type_spec=TensorSpec(shape=(None, 512), dtype=tf.float32, name=None), name='decoder_lstm/PartitionedCall:2', description=\"created by layer 'decoder_lstm'\")\n",
            "KerasTensor(type_spec=TensorSpec(shape=(None, 512), dtype=tf.float32, name='decoder_input_h'), name='decoder_input_h', description=\"created by layer 'decoder_input_h'\")\n"
          ],
          "name": "stdout"
        }
      ]
    },
    {
      "cell_type": "code",
      "metadata": {
        "colab": {
          "base_uri": "https://localhost:8080/"
        },
        "id": "pIZ2erKRDvgF",
        "outputId": "95fd5bd2-f33e-4e11-e446-30cf0d4916e5"
      },
      "source": [
        "from IPython.display import SVG\n",
        "from keras.utils.vis_utils import model_to_dot, plot_model\n",
        "\n",
        "SVG(model_to_dot(model, show_shapes=False).create(prog='dot', format='svg'))\n",
        "\n",
        "plot_model(\n",
        "    model=model, show_shapes=False,\n",
        "    to_file='model_training.pdf'\n",
        ")\n",
        "\n",
        "model.summary()"
      ],
      "execution_count": 27,
      "outputs": [
        {
          "output_type": "stream",
          "text": [
            "Model: \"model_training\"\n",
            "__________________________________________________________________________________________________\n",
            "Layer (type)                    Output Shape         Param #     Connected to                     \n",
            "==================================================================================================\n",
            "encoder_input_x (InputLayer)    [(None, None, 28)]   0                                            \n",
            "__________________________________________________________________________________________________\n",
            "decoder_input_x (InputLayer)    [(None, None, 30)]   0                                            \n",
            "__________________________________________________________________________________________________\n",
            "encoder (Functional)            [(None, 512), (None, 583680      encoder_input_x[0][0]            \n",
            "__________________________________________________________________________________________________\n",
            "decoder_lstm (LSTM)             [(None, None, 512),  1112064     decoder_input_x[0][0]            \n",
            "                                                                 encoder[0][0]                    \n",
            "                                                                 encoder[0][1]                    \n",
            "__________________________________________________________________________________________________\n",
            "decoder_dense (Dense)           (None, None, 30)     15390       decoder_lstm[1][0]               \n",
            "==================================================================================================\n",
            "Total params: 1,711,134\n",
            "Trainable params: 1,711,134\n",
            "Non-trainable params: 0\n",
            "__________________________________________________________________________________________________\n"
          ],
          "name": "stdout"
        }
      ]
    },
    {
      "cell_type": "markdown",
      "metadata": {
        "id": "dixe4DBSDvgG"
      },
      "source": [
        "### 3.5. Fit the model on the bilingual dataset\n",
        "\n",
        "- encoder_input_data: one-hot encode of the input language\n",
        "\n",
        "- decoder_input_data: one-hot encode of the input language\n",
        "\n",
        "- decoder_target_data: labels (left shift of decoder_input_data)\n",
        "\n",
        "- tune the hyper-parameters\n",
        "\n",
        "- stop when the validation loss stop decreasing."
      ]
    },
    {
      "cell_type": "code",
      "metadata": {
        "colab": {
          "base_uri": "https://localhost:8080/"
        },
        "id": "WqUO7y8ZDvgG",
        "outputId": "a52715af-35b4-487d-810f-6374415d80ba"
      },
      "source": [
        "print('shape of encoder_input_data' + str(encoder_input_data.shape))\n",
        "print('shape of decoder_input_data' + str(decoder_input_data.shape))\n",
        "print('shape of decoder_target_data' + str(decoder_target_data.shape))"
      ],
      "execution_count": 28,
      "outputs": [
        {
          "output_type": "stream",
          "text": [
            "shape of encoder_input_data(40000, 20, 28)\n",
            "shape of decoder_input_data(40000, 63, 30)\n",
            "shape of decoder_target_data(40000, 63, 30)\n"
          ],
          "name": "stdout"
        }
      ]
    },
    {
      "cell_type": "code",
      "metadata": {
        "colab": {
          "base_uri": "https://localhost:8080/"
        },
        "id": "-ek_5L6ZDvgG",
        "outputId": "8dc08cbf-bece-4575-c1e2-461fe565d663"
      },
      "source": [
        "model.compile(optimizer='rmsprop', loss='categorical_crossentropy')\n",
        "\n",
        "model.fit([encoder_input_data, decoder_input_data],  # training data\n",
        "          decoder_target_data,                       # labels (left shift of the target sequences)\n",
        "          batch_size=64, epochs=50, validation_split=0.2)\n",
        "\n",
        "model.save('seq2seq.h5')"
      ],
      "execution_count": 29,
      "outputs": [
        {
          "output_type": "stream",
          "text": [
            "Epoch 1/50\n",
            "500/500 [==============================] - 21s 34ms/step - loss: 1.0907 - val_loss: 0.7709\n",
            "Epoch 2/50\n",
            "500/500 [==============================] - 16s 31ms/step - loss: 0.6899 - val_loss: 0.6661\n",
            "Epoch 3/50\n",
            "500/500 [==============================] - 15s 31ms/step - loss: 0.6277 - val_loss: 0.6095\n",
            "Epoch 4/50\n",
            "500/500 [==============================] - 16s 31ms/step - loss: 0.5957 - val_loss: 0.5779\n",
            "Epoch 5/50\n",
            "500/500 [==============================] - 16s 31ms/step - loss: 0.5699 - val_loss: 0.5506\n",
            "Epoch 6/50\n",
            "500/500 [==============================] - 16s 31ms/step - loss: 0.5513 - val_loss: 0.5275\n",
            "Epoch 7/50\n",
            "500/500 [==============================] - 16s 31ms/step - loss: 0.5357 - val_loss: 0.5112\n",
            "Epoch 8/50\n",
            "500/500 [==============================] - 16s 31ms/step - loss: 0.5241 - val_loss: 0.4985\n",
            "Epoch 9/50\n",
            "500/500 [==============================] - 16s 31ms/step - loss: 0.5097 - val_loss: 0.4869\n",
            "Epoch 10/50\n",
            "500/500 [==============================] - 15s 31ms/step - loss: 0.4979 - val_loss: 0.4791\n",
            "Epoch 11/50\n",
            "500/500 [==============================] - 16s 31ms/step - loss: 0.4898 - val_loss: 0.4709\n",
            "Epoch 12/50\n",
            "500/500 [==============================] - 16s 31ms/step - loss: 0.4833 - val_loss: 0.4617\n",
            "Epoch 13/50\n",
            "500/500 [==============================] - 16s 31ms/step - loss: 0.4746 - val_loss: 0.4548\n",
            "Epoch 14/50\n",
            "500/500 [==============================] - 16s 31ms/step - loss: 0.4706 - val_loss: 0.4521\n",
            "Epoch 15/50\n",
            "500/500 [==============================] - 16s 31ms/step - loss: 0.4632 - val_loss: 0.4455\n",
            "Epoch 16/50\n",
            "500/500 [==============================] - 16s 31ms/step - loss: 0.4595 - val_loss: 0.4431\n",
            "Epoch 17/50\n",
            "500/500 [==============================] - 15s 31ms/step - loss: 0.4514 - val_loss: 0.4394\n",
            "Epoch 18/50\n",
            "500/500 [==============================] - 16s 31ms/step - loss: 0.4492 - val_loss: 0.4352\n",
            "Epoch 19/50\n",
            "500/500 [==============================] - 16s 31ms/step - loss: 0.4432 - val_loss: 0.4335\n",
            "Epoch 20/50\n",
            "500/500 [==============================] - 16s 31ms/step - loss: 0.4400 - val_loss: 0.4299\n",
            "Epoch 21/50\n",
            "500/500 [==============================] - 16s 31ms/step - loss: 0.4359 - val_loss: 0.4303\n",
            "Epoch 22/50\n",
            "500/500 [==============================] - 16s 31ms/step - loss: 0.4312 - val_loss: 0.4240\n",
            "Epoch 23/50\n",
            "500/500 [==============================] - 16s 31ms/step - loss: 0.4280 - val_loss: 0.4233\n",
            "Epoch 24/50\n",
            "500/500 [==============================] - 16s 31ms/step - loss: 0.4248 - val_loss: 0.4196\n",
            "Epoch 25/50\n",
            "500/500 [==============================] - 16s 31ms/step - loss: 0.4222 - val_loss: 0.4171\n",
            "Epoch 26/50\n",
            "500/500 [==============================] - 16s 31ms/step - loss: 0.4194 - val_loss: 0.4182\n",
            "Epoch 27/50\n",
            "500/500 [==============================] - 16s 31ms/step - loss: 0.4184 - val_loss: 0.4142\n",
            "Epoch 28/50\n",
            "500/500 [==============================] - 16s 31ms/step - loss: 0.4147 - val_loss: 0.4172\n",
            "Epoch 29/50\n",
            "500/500 [==============================] - 16s 31ms/step - loss: 0.4121 - val_loss: 0.4130\n",
            "Epoch 30/50\n",
            "500/500 [==============================] - 16s 31ms/step - loss: 0.4073 - val_loss: 0.4105\n",
            "Epoch 31/50\n",
            "500/500 [==============================] - 16s 31ms/step - loss: 0.4096 - val_loss: 0.4114\n",
            "Epoch 32/50\n",
            "500/500 [==============================] - 16s 31ms/step - loss: 0.4036 - val_loss: 0.4085\n",
            "Epoch 33/50\n",
            "500/500 [==============================] - 16s 31ms/step - loss: 0.4012 - val_loss: 0.4071\n",
            "Epoch 34/50\n",
            "500/500 [==============================] - 16s 31ms/step - loss: 0.3979 - val_loss: 0.4079\n",
            "Epoch 35/50\n",
            "500/500 [==============================] - 16s 31ms/step - loss: 0.3955 - val_loss: 0.4074\n",
            "Epoch 36/50\n",
            "500/500 [==============================] - 16s 31ms/step - loss: 0.3937 - val_loss: 0.4076\n",
            "Epoch 37/50\n",
            "500/500 [==============================] - 16s 31ms/step - loss: 0.3942 - val_loss: 0.4069\n",
            "Epoch 38/50\n",
            "500/500 [==============================] - 15s 31ms/step - loss: 0.3918 - val_loss: 0.4070\n",
            "Epoch 39/50\n",
            "500/500 [==============================] - 16s 31ms/step - loss: 0.3874 - val_loss: 0.4043\n",
            "Epoch 40/50\n",
            "500/500 [==============================] - 15s 31ms/step - loss: 0.3861 - val_loss: 0.4067\n",
            "Epoch 41/50\n",
            "500/500 [==============================] - 16s 31ms/step - loss: 0.3849 - val_loss: 0.4057\n",
            "Epoch 42/50\n",
            "500/500 [==============================] - 16s 31ms/step - loss: 0.3826 - val_loss: 0.4046\n",
            "Epoch 43/50\n",
            "500/500 [==============================] - 16s 31ms/step - loss: 0.3811 - val_loss: 0.4049\n",
            "Epoch 44/50\n",
            "500/500 [==============================] - 16s 31ms/step - loss: 0.3796 - val_loss: 0.4034\n",
            "Epoch 45/50\n",
            "500/500 [==============================] - 16s 31ms/step - loss: 0.3794 - val_loss: 0.4013\n",
            "Epoch 46/50\n",
            "500/500 [==============================] - 16s 31ms/step - loss: 0.3770 - val_loss: 0.4022\n",
            "Epoch 47/50\n",
            "500/500 [==============================] - 16s 31ms/step - loss: 0.3733 - val_loss: 0.4020\n",
            "Epoch 48/50\n",
            "500/500 [==============================] - 16s 31ms/step - loss: 0.3733 - val_loss: 0.4032\n",
            "Epoch 49/50\n",
            "500/500 [==============================] - 16s 31ms/step - loss: 0.3746 - val_loss: 0.4015\n",
            "Epoch 50/50\n",
            "500/500 [==============================] - 16s 31ms/step - loss: 0.3697 - val_loss: 0.4011\n"
          ],
          "name": "stdout"
        }
      ]
    },
    {
      "cell_type": "markdown",
      "metadata": {
        "id": "QUWF3uMODvgG"
      },
      "source": [
        "## 4. Make predictions\n",
        "\n",
        "\n",
        "### 4.1. Translate English to French\n",
        "\n",
        "1. Encoder read a sentence (source language) and output its final states, $h_t$ and $c_t$.\n",
        "2. Take the [star] sign \"\\t\" and the final state $h_t$ and $c_t$ as input and run the decoder.\n",
        "3. Get the new states and predicted probability distribution.\n",
        "4. sample a char from the predicted probability distribution\n",
        "5. take the sampled char and the new states as input and repeat the process (stop if reach the [stop] sign \"\\n\")."
      ]
    },
    {
      "cell_type": "code",
      "metadata": {
        "id": "elmFUiwkDvgG"
      },
      "source": [
        "# Reverse-lookup token index to decode sequences back to something readable.\n",
        "reverse_input_char_index = dict((i, char) for char, i in input_token_index.items())\n",
        "reverse_target_char_index = dict((i, char) for char, i in target_token_index.items())"
      ],
      "execution_count": 31,
      "outputs": []
    },
    {
      "cell_type": "code",
      "metadata": {
        "id": "zTmQwJUHDvgG"
      },
      "source": [
        "def decode_sequence(input_seq):\n",
        "    states_value = encoder_model.predict(input_seq)\n",
        "\n",
        "    target_seq = numpy.zeros((1, 1, num_decoder_tokens))\n",
        "    target_seq[0, 0, target_token_index['\\t']] = 1.\n",
        "\n",
        "    stop_condition = False\n",
        "    decoded_sentence = ''\n",
        "    while not stop_condition:\n",
        "        output_tokens, h, c = decoder_model.predict([target_seq] + states_value)\n",
        "\n",
        "        # this line of code is greedy selection\n",
        "        # try to use multinomial sampling instead (with temperature)\n",
        "        sampled_token_index = numpy.argmax(output_tokens[0, -1, :])\n",
        "        \n",
        "        sampled_char = reverse_target_char_index[sampled_token_index]\n",
        "        decoded_sentence += sampled_char\n",
        "\n",
        "        if (sampled_char == '\\n' or\n",
        "           len(decoded_sentence) > max_decoder_seq_length):\n",
        "            stop_condition = True\n",
        "\n",
        "        target_seq = numpy.zeros((1, 1, num_decoder_tokens))\n",
        "        target_seq[0, 0, sampled_token_index] = 1.\n",
        "\n",
        "        states_value = [h, c]\n",
        "\n",
        "    return decoded_sentence\n"
      ],
      "execution_count": 32,
      "outputs": []
    },
    {
      "cell_type": "code",
      "metadata": {
        "colab": {
          "base_uri": "https://localhost:8080/"
        },
        "id": "DlpQJ-A8DvgH",
        "outputId": "2f61c304-22da-4899-e903-2c5334aa575f"
      },
      "source": [
        "for seq_index in range(2100, 2120):\n",
        "    # Take one sequence (part of the training set)\n",
        "    # for trying out decoding.\n",
        "    input_seq = encoder_input_data[seq_index: seq_index + 1]\n",
        "    decoded_sentence = decode_sequence(input_seq)\n",
        "    print('-')\n",
        "    print('English:       ', input_texts[seq_index])\n",
        "    print('French (true): ', target_texts[seq_index][1:-1])\n",
        "    print('French (pred): ', decoded_sentence[0:-1])\n"
      ],
      "execution_count": 33,
      "outputs": [
        {
          "output_type": "stream",
          "text": [
            "-\n",
            "English:        just do it\n",
            "French (true):  faitesle tout simplement\n",
            "French (pred):  faites juste comme ce taise\n",
            "-\n",
            "English:        just relax\n",
            "French (true):  detendezvous\n",
            "French (pred):  soyez juste prudentes\n",
            "-\n",
            "English:        just relax\n",
            "French (true):  detendstoi\n",
            "French (pred):  soyez juste prudentes\n",
            "-\n",
            "English:        keep it up\n",
            "French (true):  continuez comme ca\n",
            "French (pred):  restez concentres\n",
            "-\n",
            "English:        keep it up\n",
            "French (true):  continuez comme ca\n",
            "French (pred):  restez concentres\n",
            "-\n",
            "English:        keep it up\n",
            "French (true):  continue comme ca\n",
            "French (pred):  restez concentres\n",
            "-\n",
            "English:        keep quiet\n",
            "French (true):  reste tranquille\n",
            "French (pred):  restez tranquille\n",
            "-\n",
            "English:        keep quiet\n",
            "French (true):  restez tranquille\n",
            "French (pred):  restez tranquille\n",
            "-\n",
            "English:        keep quiet\n",
            "French (true):  reste tranquille\n",
            "French (pred):  restez tranquille\n",
            "-\n",
            "English:        keep quiet\n",
            "French (true):  restez tranquille\n",
            "French (pred):  restez tranquille\n",
            "-\n",
            "English:        keep quiet\n",
            "French (true):  restez tranquilles\n",
            "French (pred):  restez tranquille\n",
            "-\n",
            "English:        keep quiet\n",
            "French (true):  reste tranquille\n",
            "French (pred):  restez tranquille\n",
            "-\n",
            "English:        keep quiet\n",
            "French (true):  restez tranquille\n",
            "French (pred):  restez tranquille\n",
            "-\n",
            "English:        keep quiet\n",
            "French (true):  taisezvous\n",
            "French (pred):  restez tranquille\n",
            "-\n",
            "English:        keep still\n",
            "French (true):  reste tranquille\n",
            "French (pred):  restez tranquille\n",
            "-\n",
            "English:        keep still\n",
            "French (true):  restez tranquille\n",
            "French (pred):  restez tranquille\n",
            "-\n",
            "English:        let tom go\n",
            "French (true):  laissez tom partir\n",
            "French (pred):  laissez tom se teter\n",
            "-\n",
            "English:        let tom go\n",
            "French (true):  laisse tom partir\n",
            "French (pred):  laissez tom se teter\n",
            "-\n",
            "English:        let tom in\n",
            "French (true):  faites entrer tom\n",
            "French (pred):  laissez tom se repondre\n",
            "-\n",
            "English:        let tom in\n",
            "French (true):  fais entrer tom\n",
            "French (pred):  laissez tom se repondre\n"
          ],
          "name": "stdout"
        }
      ]
    },
    {
      "cell_type": "markdown",
      "metadata": {
        "id": "oDk-Hk00DvgH"
      },
      "source": [
        "### 4.2. Translate an English sentence to the target language\n",
        "\n",
        "1. Tokenization\n",
        "2. One-hot encode\n",
        "3. Translate"
      ]
    },
    {
      "cell_type": "code",
      "metadata": {
        "id": "WW_4zqTCXlQq"
      },
      "source": [
        ""
      ],
      "execution_count": null,
      "outputs": []
    },
    {
      "cell_type": "code",
      "metadata": {
        "colab": {
          "base_uri": "https://localhost:8080/"
        },
        "id": "sB3EemcMDvgH",
        "outputId": "35f5457c-b0e5-4d6e-d379-116358eebf3c"
      },
      "source": [
        "input_sentence = 'how are you'\n",
        "\n",
        "input_sequence = text2sequences(max_encoder_seq_length, [input_sentence])[0]\n",
        "\n",
        "input_x = onehot_encode(input_sequence, max_encoder_seq_length, num_encoder_tokens)\n",
        "\n",
        "translated_sentence = decode_sequence(input_x)\n",
        "\n",
        "print('source sentence is: ' + input_sentence)\n",
        "print('translated sentence is: ' + translated_sentence)"
      ],
      "execution_count": 34,
      "outputs": [
        {
          "output_type": "stream",
          "text": [
            "source sentence is: how are you\n",
            "translated sentence is: je suis devenu foule\n",
            "\n"
          ],
          "name": "stdout"
        }
      ]
    },
    {
      "cell_type": "markdown",
      "metadata": {
        "id": "djWed148DvgH"
      },
      "source": [
        "## 5. Evaluate the translation using BLEU score\n",
        "\n",
        "Reference: \n",
        "- https://machinelearningmastery.com/calculate-bleu-score-for-text-python/\n",
        "- https://en.wikipedia.org/wiki/BLEU\n",
        "\n",
        "\n",
        "**Hint:** \n",
        "\n",
        "- Randomly partition the dataset to training, validation, and test. \n",
        "\n",
        "- Evaluate the BLEU score using the test set. Report the average.\n",
        "\n",
        "- A reasonable BLEU score should be 0.1 ~ 0.5."
      ]
    },
    {
      "cell_type": "code",
      "metadata": {
        "id": "PqWvxv6mDvgH"
      },
      "source": [
        ""
      ],
      "execution_count": null,
      "outputs": []
    }
  ]
}
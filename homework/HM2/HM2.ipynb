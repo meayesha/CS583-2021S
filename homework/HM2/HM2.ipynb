{
 "cells": [
  {
   "cell_type": "markdown",
   "metadata": {},
   "source": [
    "# HM2: Numerical Optimization for Logistic Regression.\n",
    "\n",
    "### Name: Ayesha Parveen\n"
   ]
  },
  {
   "cell_type": "markdown",
   "metadata": {},
   "source": [
    "## 0. You will do the following:\n",
    "\n",
    "1. Read the lecture note: [click here](https://github.com/wangshusen/DeepLearning/blob/master/LectureNotes/Logistic/paper/logistic.pdf)\n",
    "\n",
    "2. Read, complete, and run my code.\n",
    "\n",
    "3. **Implement mini-batch SGD** and evaluate the performance.\n",
    "\n",
    "4. Convert the .IPYNB file to .HTML file.\n",
    "\n",
    "    * The HTML file must contain **the code** and **the output after execution**.\n",
    "    \n",
    "    * Missing **the output after execution** will not be graded.\n",
    "    \n",
    "5. Upload this .HTML file to your Google Drive, Dropbox, or your Github repo.  (If you submit the file to Google Drive or Dropbox, you must make the file \"open-access\". The delay caused by \"deny of access\" may result in late penalty.)\n",
    "\n",
    "6. Submit the link to this .HTML file to Canvas.\n",
    "\n",
    "    * Example: https://github.com/wangshusen/CS583-2020S/blob/master/homework/HM2/HM2.html\n",
    "\n",
    "\n",
    "## Grading criteria:\n",
    "\n",
    "1. When computing the ```gradient``` and ```objective function value``` using a batch of samples, use **matrix-vector multiplication** rather than a FOR LOOP of **vector-vector multiplications**.\n",
    "\n",
    "2. Plot ```objective function value``` against ```epochs```. In the plot, compare GD, SGD, and MB-SGD (with $b=8$ and $b=64$). The plot must look reasonable."
   ]
  },
  {
   "cell_type": "code",
   "execution_count": null,
   "metadata": {},
   "outputs": [],
   "source": []
  },
  {
   "cell_type": "markdown",
   "metadata": {},
   "source": [
    "# 1. Data processing\n",
    "\n",
    "- Download the Diabete dataset from https://www.csie.ntu.edu.tw/~cjlin/libsvmtools/datasets/binary/diabetes\n",
    "- Load the data using sklearn.\n",
    "- Preprocess the data."
   ]
  },
  {
   "cell_type": "markdown",
   "metadata": {},
   "source": [
    "## 1.1. Load the data"
   ]
  },
  {
   "cell_type": "code",
   "execution_count": 1,
   "metadata": {},
   "outputs": [
    {
     "name": "stdout",
     "output_type": "stream",
     "text": [
      "Shape of x: (768, 8)\n",
      "Shape of y: (768,)\n"
     ]
    }
   ],
   "source": [
    "from sklearn import datasets\n",
    "import numpy\n",
    "\n",
    "x_sparse, y = datasets.load_svmlight_file('diabetes')\n",
    "x = x_sparse.todense()\n",
    "\n",
    "print('Shape of x: ' + str(x.shape))\n",
    "print('Shape of y: ' + str(y.shape))"
   ]
  },
  {
   "cell_type": "markdown",
   "metadata": {},
   "source": [
    "## 1.2. Partition to training and test sets"
   ]
  },
  {
   "cell_type": "code",
   "execution_count": 2,
   "metadata": {},
   "outputs": [
    {
     "name": "stdout",
     "output_type": "stream",
     "text": [
      "Shape of x_train: (640, 8)\n",
      "Shape of x_test: (128, 8)\n",
      "Shape of y_train: (640, 1)\n",
      "Shape of y_test: (128, 1)\n"
     ]
    }
   ],
   "source": [
    "# partition the data to training and test sets\n",
    "n = x.shape[0]\n",
    "n_train = 640\n",
    "n_test = n - n_train\n",
    "\n",
    "rand_indices = numpy.random.permutation(n)\n",
    "train_indices = rand_indices[0:n_train]\n",
    "test_indices = rand_indices[n_train:n]\n",
    "\n",
    "x_train = x[train_indices, :]\n",
    "x_test = x[test_indices, :]\n",
    "y_train = y[train_indices].reshape(n_train, 1)\n",
    "y_test = y[test_indices].reshape(n_test, 1)\n",
    "\n",
    "print('Shape of x_train: ' + str(x_train.shape))\n",
    "print('Shape of x_test: ' + str(x_test.shape))\n",
    "print('Shape of y_train: ' + str(y_train.shape))\n",
    "print('Shape of y_test: ' + str(y_test.shape))"
   ]
  },
  {
   "cell_type": "markdown",
   "metadata": {},
   "source": [
    "## 1.3. Feature scaling"
   ]
  },
  {
   "cell_type": "markdown",
   "metadata": {},
   "source": [
    "Use the standardization to trainsform both training and test features"
   ]
  },
  {
   "cell_type": "code",
   "execution_count": 3,
   "metadata": {},
   "outputs": [
    {
     "name": "stdout",
     "output_type": "stream",
     "text": [
      "test mean = \n",
      "[[-0.12402977  0.09330263 -0.09654278  0.03359619  0.03623315  0.09249096\n",
      "   0.06610041 -0.18064909]]\n",
      "test std = \n",
      "[[0.90799369 0.98674605 0.98684287 0.97794462 1.1866696  0.96378258\n",
      "  1.31043175 0.86473538]]\n"
     ]
    }
   ],
   "source": [
    "# Standardization\n",
    "import numpy\n",
    "\n",
    "# calculate mu and sig using the training set\n",
    "d = x_train.shape[1]\n",
    "mu = numpy.mean(x_train, axis=0).reshape(1, d)\n",
    "sig = numpy.std(x_train, axis=0).reshape(1, d)\n",
    "\n",
    "# transform the training features\n",
    "x_train = (x_train - mu) / (sig + 1E-6)\n",
    "\n",
    "# transform the test features\n",
    "x_test = (x_test - mu) / (sig + 1E-6)\n",
    "\n",
    "print('test mean = ')\n",
    "print(numpy.mean(x_test, axis=0))\n",
    "\n",
    "print('test std = ')\n",
    "print(numpy.std(x_test, axis=0))"
   ]
  },
  {
   "cell_type": "markdown",
   "metadata": {},
   "source": [
    "## 1.4. Add a dimension of all ones"
   ]
  },
  {
   "cell_type": "code",
   "execution_count": 4,
   "metadata": {},
   "outputs": [
    {
     "name": "stdout",
     "output_type": "stream",
     "text": [
      "Shape of x_train: (640, 9)\n",
      "Shape of x_test: (128, 9)\n"
     ]
    }
   ],
   "source": [
    "n_train, d = x_train.shape\n",
    "x_train = numpy.concatenate((x_train, numpy.ones((n_train, 1))), axis=1)\n",
    "\n",
    "n_test, d = x_test.shape\n",
    "x_test = numpy.concatenate((x_test, numpy.ones((n_test, 1))), axis=1)\n",
    "\n",
    "print('Shape of x_train: ' + str(x_train.shape))\n",
    "print('Shape of x_test: ' + str(x_test.shape))"
   ]
  },
  {
   "cell_type": "markdown",
   "metadata": {},
   "source": [
    "# 2. Logistic regression model\n",
    "\n",
    "The objective function is $Q (w; X, y) = \\frac{1}{n} \\sum_{i=1}^n \\log \\Big( 1 + \\exp \\big( - y_i x_i^T w \\big) \\Big) + \\frac{\\lambda}{2} \\| w \\|_2^2 $."
   ]
  },
  {
   "cell_type": "code",
   "execution_count": 5,
   "metadata": {},
   "outputs": [],
   "source": [
    "# Calculate the objective function value\n",
    "# Inputs:\n",
    "#     w: d-by-1 matrix\n",
    "#     x: n-by-d matrix\n",
    "#     y: n-by-1 matrix\n",
    "#     lam: scalar, the regularization parameter\n",
    "# Return:\n",
    "#     objective function value (scalar)\n",
    "def objective(w, x, y, lam):\n",
    "    n, d = x.shape\n",
    "    yx = numpy.multiply(y, x) # n-by-d matrix\n",
    "    yxw = numpy.dot(yx, w) # n-by-1 matrix\n",
    "    vec1 = numpy.exp(-yxw) # n-by-1 matrix\n",
    "    vec2 = numpy.log(1 + vec1) # n-by-1 matrix\n",
    "    loss = numpy.mean(vec2) # scalar\n",
    "    reg = lam / 2 * numpy.sum(w * w) # scalar\n",
    "    return loss + reg\n",
    "    "
   ]
  },
  {
   "cell_type": "code",
   "execution_count": 6,
   "metadata": {},
   "outputs": [
    {
     "name": "stdout",
     "output_type": "stream",
     "text": [
      "Initial objective function value = 0.6931471805599453\n"
     ]
    }
   ],
   "source": [
    "# initialize w\n",
    "d = x_train.shape[1]\n",
    "w = numpy.zeros((d, 1))\n",
    "\n",
    "# evaluate the objective function value at w\n",
    "lam = 1E-6\n",
    "objval0 = objective(w, x_train, y_train, lam)\n",
    "print('Initial objective function value = ' + str(objval0))"
   ]
  },
  {
   "cell_type": "markdown",
   "metadata": {},
   "source": [
    "# 3. Numerical optimization"
   ]
  },
  {
   "cell_type": "markdown",
   "metadata": {},
   "source": [
    "## 3.1. Gradient descent\n"
   ]
  },
  {
   "cell_type": "markdown",
   "metadata": {},
   "source": [
    "The gradient at $w$ is $g = - \\frac{1}{n} \\sum_{i=1}^n \\frac{y_i x_i }{1 + \\exp ( y_i x_i^T w)} + \\lambda w$"
   ]
  },
  {
   "cell_type": "code",
   "execution_count": 7,
   "metadata": {},
   "outputs": [],
   "source": [
    "# Calculate the gradient\n",
    "# Inputs:\n",
    "#     w: d-by-1 matrix\n",
    "#     x: n-by-d matrix\n",
    "#     y: n-by-1 matrix\n",
    "#     lam: scalar, the regularization parameter\n",
    "# Return:\n",
    "#     g: g: d-by-1 matrix, full gradient\n",
    "def gradient(w, x, y, lam):\n",
    "    n, d = x.shape\n",
    "    yx = numpy.multiply(y, x) # n-by-d matrix\n",
    "    yxw = numpy.dot(yx, w) # n-by-1 matrix\n",
    "    vec1 = numpy.exp(yxw) # n-by-1 matrix\n",
    "    vec2 = numpy.divide(yx, 1+vec1) # n-by-d matrix\n",
    "    vec3 = -numpy.mean(vec2, axis=0).reshape(d, 1) # d-by-1 matrix\n",
    "    g = vec3 + lam * w\n",
    "    return g"
   ]
  },
  {
   "cell_type": "code",
   "execution_count": 8,
   "metadata": {},
   "outputs": [],
   "source": [
    "# Gradient descent for solving logistic regression\n",
    "# Inputs:\n",
    "#     x: n-by-d matrix\n",
    "#     y: n-by-1 matrix\n",
    "#     lam: scalar, the regularization parameter\n",
    "#     stepsize: scalar\n",
    "#     max_iter: integer, the maximal iterations\n",
    "#     w: d-by-1 matrix, initialization of w\n",
    "# Return:\n",
    "#     w: d-by-1 matrix, the solution\n",
    "#     objvals: a record of each iteration's objective value\n",
    "def grad_descent(x, y, lam, stepsize, max_iter=100, w=None):\n",
    "    n, d = x.shape\n",
    "    objvals = numpy.zeros(max_iter) # store the objective values\n",
    "    if w is None:\n",
    "        w = numpy.zeros((d, 1)) # zero initialization\n",
    "    \n",
    "    for t in range(max_iter):\n",
    "        objval = objective(w, x, y, lam)\n",
    "        objvals[t] = objval\n",
    "        print('Objective value at t=' + str(t) + ' is ' + str(objval))\n",
    "        g = gradient(w, x, y, lam)\n",
    "        w -= stepsize * g\n",
    "    \n",
    "    return w, objvals"
   ]
  },
  {
   "cell_type": "markdown",
   "metadata": {},
   "source": [
    "Run gradient descent."
   ]
  },
  {
   "cell_type": "code",
   "execution_count": 9,
   "metadata": {},
   "outputs": [
    {
     "name": "stdout",
     "output_type": "stream",
     "text": [
      "Objective value at t=0 is 0.6931471805599453\n",
      "Objective value at t=1 is 0.5895551857493034\n",
      "Objective value at t=2 is 0.5462368933524562\n",
      "Objective value at t=3 is 0.5227066847141424\n",
      "Objective value at t=4 is 0.507973529055542\n",
      "Objective value at t=5 is 0.4979897873165111\n",
      "Objective value at t=6 is 0.49088460776787607\n",
      "Objective value at t=7 is 0.48565661880847394\n",
      "Objective value at t=8 is 0.48171492455358184\n",
      "Objective value at t=9 is 0.47868658579656737\n",
      "Objective value at t=10 is 0.4763245684771704\n",
      "Objective value at t=11 is 0.47445919024405014\n",
      "Objective value at t=12 is 0.47297054065753114\n",
      "Objective value at t=13 is 0.47177190446609313\n",
      "Objective value at t=14 is 0.47079935181672805\n",
      "Objective value at t=15 is 0.47000496942425374\n",
      "Objective value at t=16 is 0.4693523322006465\n",
      "Objective value at t=17 is 0.4688134005717499\n",
      "Objective value at t=18 is 0.4683663505805294\n",
      "Objective value at t=19 is 0.4679940288454507\n",
      "Objective value at t=20 is 0.46768283473807376\n",
      "Objective value at t=21 is 0.46742189997078076\n",
      "Objective value at t=22 is 0.4672024785996261\n",
      "Objective value at t=23 is 0.46701748808810806\n",
      "Objective value at t=24 is 0.46686116027865954\n",
      "Objective value at t=25 is 0.46672877331673346\n",
      "Objective value at t=26 is 0.46661644387855583\n",
      "Objective value at t=27 is 0.4665209647926226\n",
      "Objective value at t=28 is 0.4664396771638223\n",
      "Objective value at t=29 is 0.46637036895858364\n",
      "Objective value at t=30 is 0.46631119405348015\n",
      "Objective value at t=31 is 0.46626060723201007\n",
      "Objective value at t=32 is 0.4662173117002206\n",
      "Objective value at t=33 is 0.46618021649509905\n",
      "Objective value at t=34 is 0.4661484017592118\n",
      "Objective value at t=35 is 0.46612109030640736\n",
      "Objective value at t=36 is 0.4660976242459032\n",
      "Objective value at t=37 is 0.46607744569396536\n",
      "Objective value at t=38 is 0.46606008080408423\n",
      "Objective value at t=39 is 0.46604512650292623\n",
      "Objective value at t=40 is 0.46603223944137057\n",
      "Objective value at t=41 is 0.4660211267657334\n",
      "Objective value at t=42 is 0.4660115383899113\n",
      "Objective value at t=43 is 0.46600326050920887\n",
      "Objective value at t=44 is 0.46599611014450565\n",
      "Objective value at t=45 is 0.46598993054381393\n",
      "Objective value at t=46 is 0.4659845872991875\n",
      "Objective value at t=47 is 0.4659799650619478\n",
      "Objective value at t=48 is 0.46597596475948694\n",
      "Objective value at t=49 is 0.46597250123345846\n",
      "Objective value at t=50 is 0.46596950123268893\n",
      "Objective value at t=51 is 0.46596690170526067\n",
      "Objective value at t=52 is 0.4659646483433502\n",
      "Objective value at t=53 is 0.46596269434196597\n",
      "Objective value at t=54 is 0.4659609993389762\n",
      "Objective value at t=55 is 0.4659595285090132\n",
      "Objective value at t=56 is 0.46595825178816436\n",
      "Objective value at t=57 is 0.46595714320996295\n",
      "Objective value at t=58 is 0.46595618033621006\n",
      "Objective value at t=59 is 0.46595534376868836\n",
      "Objective value at t=60 is 0.46595461672994715\n",
      "Objective value at t=61 is 0.4659539847031277\n",
      "Objective value at t=62 is 0.46595343512229814\n",
      "Objective value at t=63 is 0.46595295710604306\n",
      "Objective value at t=64 is 0.4659525412281215\n",
      "Objective value at t=65 is 0.4659521793199189\n",
      "Objective value at t=66 is 0.46595186430019114\n",
      "Objective value at t=67 is 0.4659515900282504\n",
      "Objective value at t=68 is 0.46595135117729886\n",
      "Objective value at t=69 is 0.4659511431250956\n",
      "Objective value at t=70 is 0.4659509618595357\n",
      "Objective value at t=71 is 0.4659508038970751\n",
      "Objective value at t=72 is 0.46595066621222025\n",
      "Objective value at t=73 is 0.46595054617655846\n",
      "Objective value at t=74 is 0.46595044150601506\n",
      "Objective value at t=75 is 0.465950350215212\n",
      "Objective value at t=76 is 0.465950270577954\n",
      "Objective value at t=77 is 0.4659502010930111\n",
      "Objective value at t=78 is 0.4659501404544737\n",
      "Objective value at t=79 is 0.4659500875260626\n",
      "Objective value at t=80 is 0.4659500413188594\n",
      "Objective value at t=81 is 0.46595000097199374\n",
      "Objective value at t=82 is 0.46594996573589176\n",
      "Objective value at t=83 is 0.4659499349577403\n",
      "Objective value at t=84 is 0.46594990806887154\n",
      "Objective value at t=85 is 0.46594988457380926\n",
      "Objective value at t=86 is 0.4659498640407568\n",
      "Objective value at t=87 is 0.46594984609333523\n",
      "Objective value at t=88 is 0.46594983040340265\n",
      "Objective value at t=89 is 0.4659498166848153\n",
      "Objective value at t=90 is 0.4659498046880025\n",
      "Objective value at t=91 is 0.4659497941952498\n",
      "Objective value at t=92 is 0.46594978501659684\n",
      "Objective value at t=93 is 0.4659497769862676\n",
      "Objective value at t=94 is 0.46594976995956455\n",
      "Objective value at t=95 is 0.4659497638101662\n",
      "Objective value at t=96 is 0.4659497584277731\n",
      "Objective value at t=97 is 0.4659497537160585\n",
      "Objective value at t=98 is 0.4659497495908846\n",
      "Objective value at t=99 is 0.46594974597874633\n"
     ]
    }
   ],
   "source": [
    "lam = 1E-6\n",
    "stepsize = 1.0\n",
    "w, objvals_gd = grad_descent(x_train, y_train, lam, stepsize)"
   ]
  },
  {
   "cell_type": "markdown",
   "metadata": {},
   "source": [
    "## 3.2. Stochastic gradient descent (SGD)\n",
    "\n",
    "Define $Q_i (w) = \\log \\Big( 1 + \\exp \\big( - y_i x_i^T w \\big) \\Big) + \\frac{\\lambda}{2} \\| w \\|_2^2 $.\n",
    "\n",
    "The stochastic gradient at $w$ is $g_i = \\frac{\\partial Q_i }{ \\partial w} = -\\frac{y_i x_i }{1 + \\exp ( y_i x_i^T w)} + \\lambda w$."
   ]
  },
  {
   "cell_type": "code",
   "execution_count": 10,
   "metadata": {},
   "outputs": [],
   "source": [
    "# Calculate the objective Q_i and the gradient of Q_i\n",
    "# Inputs:\n",
    "#     w: d-by-1 matrix\n",
    "def stochastic_objective_gradient(w, xi, yi, lam):\n",
    "#     xi: 1-by-d matrix\n",
    "#     yi: scalar\n",
    "#     lam: scalar, the regularization parameter\n",
    "# Return:\n",
    "#     obj: scalar, the objective Q_i\n",
    "#     g: d-by-1 matrix, gradient of Q_i\n",
    "    d = xi.shape[0]\n",
    "    yx = yi * xi # 1-by-d matrix\n",
    "    yxw = float(numpy.dot(yx, w)) # scalar\n",
    "    \n",
    "    # calculate objective function Q_i\n",
    "    loss = numpy.log(1 + numpy.exp(-yxw)) # scalar\n",
    "    reg = lam / 2 * numpy.sum(w * w) # scalar\n",
    "    obj = loss + reg\n",
    "    \n",
    "    # calculate stochastic gradient\n",
    "    g_loss = -yx.T / (1 + numpy.exp(yxw)) # d-by-1 matrix\n",
    "    g = g_loss + lam * w # d-by-1 matrix\n",
    "    \n",
    "    return obj, g"
   ]
  },
  {
   "cell_type": "code",
   "execution_count": 11,
   "metadata": {},
   "outputs": [],
   "source": [
    "# SGD for solving logistic regression\n",
    "# Inputs:\n",
    "#     x: n-by-d matrix\n",
    "#     y: n-by-1 matrix\n",
    "#     lam: scalar, the regularization parameter\n",
    "#     stepsize: scalar\n",
    "#     max_epoch: integer, the maximal epochs\n",
    "#     w: d-by-1 matrix, initialization of w\n",
    "# Return:\n",
    "#     w: the solution\n",
    "#     objvals: record of each iteration's objective value\n",
    "def sgd(x, y, lam, stepsize, max_epoch=100, w=None):\n",
    "    n, d = x.shape\n",
    "    objvals = numpy.zeros(max_epoch) # store the objective values\n",
    "    if w is None:\n",
    "        w = numpy.zeros((d, 1)) # zero initialization\n",
    "    \n",
    "    for t in range(max_epoch):\n",
    "        # randomly shuffle the samples\n",
    "        rand_indices = numpy.random.permutation(n)\n",
    "        x_rand = x[rand_indices, :]\n",
    "        y_rand = y[rand_indices, :]\n",
    "        \n",
    "        objval = 0 # accumulate the objective values\n",
    "        for i in range(n):\n",
    "            xi = x_rand[i, :] # 1-by-d matrix\n",
    "            yi = float(y_rand[i, :]) # scalar\n",
    "            obj, g = stochastic_objective_gradient(w, xi, yi, lam)\n",
    "            objval += obj\n",
    "            w -= stepsize * g\n",
    "        \n",
    "        stepsize *= 0.9 # decrease step size\n",
    "        objval /= n\n",
    "        objvals[t] = objval\n",
    "        print('Objective value at epoch t=' + str(t) + ' is ' + str(objval))\n",
    "    \n",
    "    return w, objvals"
   ]
  },
  {
   "cell_type": "markdown",
   "metadata": {},
   "source": [
    "Run SGD."
   ]
  },
  {
   "cell_type": "code",
   "execution_count": 12,
   "metadata": {},
   "outputs": [
    {
     "name": "stdout",
     "output_type": "stream",
     "text": [
      "Objective value at epoch t=0 is 0.5341397092481313\n",
      "Objective value at epoch t=1 is 0.5135419634285858\n",
      "Objective value at epoch t=2 is 0.5077455727145763\n",
      "Objective value at epoch t=3 is 0.5038686011665264\n",
      "Objective value at epoch t=4 is 0.4991625799189624\n",
      "Objective value at epoch t=5 is 0.4986786225318033\n",
      "Objective value at epoch t=6 is 0.4974508002987637\n",
      "Objective value at epoch t=7 is 0.48478145811402973\n",
      "Objective value at epoch t=8 is 0.49059176645531466\n",
      "Objective value at epoch t=9 is 0.48939776934035767\n",
      "Objective value at epoch t=10 is 0.4872109815663306\n",
      "Objective value at epoch t=11 is 0.48159697041158267\n",
      "Objective value at epoch t=12 is 0.48378069565268983\n",
      "Objective value at epoch t=13 is 0.47878467136392633\n",
      "Objective value at epoch t=14 is 0.4769538513258655\n",
      "Objective value at epoch t=15 is 0.47823566334125756\n",
      "Objective value at epoch t=16 is 0.47504958710152395\n",
      "Objective value at epoch t=17 is 0.474931911340987\n",
      "Objective value at epoch t=18 is 0.47625201562504804\n",
      "Objective value at epoch t=19 is 0.47437968992084034\n",
      "Objective value at epoch t=20 is 0.4744237179074172\n",
      "Objective value at epoch t=21 is 0.47220686694729\n",
      "Objective value at epoch t=22 is 0.4724873547241001\n",
      "Objective value at epoch t=23 is 0.4716954775826621\n",
      "Objective value at epoch t=24 is 0.47140063658264986\n",
      "Objective value at epoch t=25 is 0.47024183965188165\n",
      "Objective value at epoch t=26 is 0.4698778502684755\n",
      "Objective value at epoch t=27 is 0.4698049301640664\n",
      "Objective value at epoch t=28 is 0.46923301012919466\n",
      "Objective value at epoch t=29 is 0.4692384692481215\n",
      "Objective value at epoch t=30 is 0.46880439150292547\n",
      "Objective value at epoch t=31 is 0.468518859126556\n",
      "Objective value at epoch t=32 is 0.4681431034670648\n",
      "Objective value at epoch t=33 is 0.4680804060609508\n",
      "Objective value at epoch t=34 is 0.46787306432137327\n",
      "Objective value at epoch t=35 is 0.4676280111698419\n",
      "Objective value at epoch t=36 is 0.46753124487698183\n",
      "Objective value at epoch t=37 is 0.46737338712134485\n",
      "Objective value at epoch t=38 is 0.46724995057662877\n",
      "Objective value at epoch t=39 is 0.46711894652889174\n",
      "Objective value at epoch t=40 is 0.46699634126696055\n",
      "Objective value at epoch t=41 is 0.46690248896785985\n",
      "Objective value at epoch t=42 is 0.4667669868087313\n",
      "Objective value at epoch t=43 is 0.4667168592381826\n",
      "Objective value at epoch t=44 is 0.46663522824599635\n",
      "Objective value at epoch t=45 is 0.466574180005941\n",
      "Objective value at epoch t=46 is 0.4665061506358076\n",
      "Objective value at epoch t=47 is 0.4664574154052713\n",
      "Objective value at epoch t=48 is 0.4663999778274298\n",
      "Objective value at epoch t=49 is 0.4663596931122934\n",
      "Objective value at epoch t=50 is 0.4663161365363382\n",
      "Objective value at epoch t=51 is 0.466284154576923\n",
      "Objective value at epoch t=52 is 0.4662504043067389\n",
      "Objective value at epoch t=53 is 0.4662183965772055\n",
      "Objective value at epoch t=54 is 0.46619413632628603\n",
      "Objective value at epoch t=55 is 0.4661697338866264\n",
      "Objective value at epoch t=56 is 0.46614746712089933\n",
      "Objective value at epoch t=57 is 0.4661277231467481\n",
      "Objective value at epoch t=58 is 0.46611017216159284\n",
      "Objective value at epoch t=59 is 0.46609389952844094\n",
      "Objective value at epoch t=60 is 0.46607999992961535\n",
      "Objective value at epoch t=61 is 0.4660664005419871\n",
      "Objective value at epoch t=62 is 0.46605539391540585\n",
      "Objective value at epoch t=63 is 0.4660448705341369\n",
      "Objective value at epoch t=64 is 0.4660353927428044\n",
      "Objective value at epoch t=65 is 0.46602684833223507\n",
      "Objective value at epoch t=66 is 0.46601929809583276\n",
      "Objective value at epoch t=67 is 0.4660123757783622\n",
      "Objective value at epoch t=68 is 0.4660061923669317\n",
      "Objective value at epoch t=69 is 0.46600066207503066\n",
      "Objective value at epoch t=70 is 0.46599563934204974\n",
      "Objective value at epoch t=71 is 0.4659910966360944\n",
      "Objective value at epoch t=72 is 0.4659870473731904\n",
      "Objective value at epoch t=73 is 0.46598339733463445\n",
      "Objective value at epoch t=74 is 0.4659801039416334\n",
      "Objective value at epoch t=75 is 0.46597712207610026\n",
      "Objective value at epoch t=76 is 0.4659744572824214\n",
      "Objective value at epoch t=77 is 0.46597205528857844\n",
      "Objective value at epoch t=78 is 0.46596989530420074\n",
      "Objective value at epoch t=79 is 0.46596794764020605\n",
      "Objective value at epoch t=80 is 0.46596618668742884\n",
      "Objective value at epoch t=81 is 0.4659646185887419\n",
      "Objective value at epoch t=82 is 0.46596319582042856\n",
      "Objective value at epoch t=83 is 0.4659619214504591\n",
      "Objective value at epoch t=84 is 0.46596077031079225\n",
      "Objective value at epoch t=85 is 0.46595973412575065\n",
      "Objective value at epoch t=86 is 0.46595880417026186\n",
      "Objective value at epoch t=87 is 0.465957966669938\n",
      "Objective value at epoch t=88 is 0.4659572110904454\n",
      "Objective value at epoch t=89 is 0.46595653228966283\n",
      "Objective value at epoch t=90 is 0.46595592068160396\n",
      "Objective value at epoch t=91 is 0.4659553710956617\n",
      "Objective value at epoch t=92 is 0.46595487595689483\n",
      "Objective value at epoch t=93 is 0.46595443056372854\n",
      "Objective value at epoch t=94 is 0.4659540293420207\n",
      "Objective value at epoch t=95 is 0.46595366843240277\n",
      "Objective value at epoch t=96 is 0.4659533433763574\n",
      "Objective value at epoch t=97 is 0.46595305123883035\n",
      "Objective value at epoch t=98 is 0.4659527881305089\n",
      "Objective value at epoch t=99 is 0.4659525513362895\n"
     ]
    }
   ],
   "source": [
    "lam = 1E-6\n",
    "stepsize = 0.1\n",
    "w, objvals_sgd = sgd(x_train, y_train, lam, stepsize)"
   ]
  },
  {
   "cell_type": "markdown",
   "metadata": {},
   "source": [
    "# 4. Compare GD with SGD\n",
    "\n",
    "Plot objective function values against epochs."
   ]
  },
  {
   "cell_type": "code",
   "execution_count": 13,
   "metadata": {},
   "outputs": [
    {
     "data": {
      "image/png": "[encoded data removed]",
      "text/plain": [
       "<Figure size 432x288 with 1 Axes>"
      ]
     },
     "metadata": {
      "needs_background": "light"
     },
     "output_type": "display_data"
    }
   ],
   "source": [
    "import matplotlib.pyplot as plt\n",
    "%matplotlib inline\n",
    "\n",
    "fig = plt.figure(figsize=(6, 4))\n",
    "\n",
    "epochs_gd = range(len(objvals_gd))\n",
    "epochs_sgd = range(len(objvals_sgd))\n",
    "\n",
    "line0, = plt.plot(epochs_gd, objvals_gd, '--b', LineWidth=4)\n",
    "line1, = plt.plot(epochs_sgd, objvals_sgd, '-r', LineWidth=2)\n",
    "plt.xlabel('Epochs', FontSize=20)\n",
    "plt.ylabel('Objective Value', FontSize=20)\n",
    "plt.xticks(FontSize=16)\n",
    "plt.yticks(FontSize=16)\n",
    "plt.legend([line0, line1], ['GD', 'SGD'], fontsize=20)\n",
    "plt.tight_layout()\n",
    "plt.show()\n",
    "fig.savefig('compare_gd_sgd.pdf', format='pdf', dpi=1200)"
   ]
  },
  {
   "cell_type": "markdown",
   "metadata": {},
   "source": [
    "# 5. Prediction"
   ]
  },
  {
   "cell_type": "code",
   "execution_count": 14,
   "metadata": {},
   "outputs": [],
   "source": [
    "# Predict class label\n",
    "# Inputs:\n",
    "#     w: d-by-1 matrix\n",
    "#     X: m-by-d matrix\n",
    "# Return:\n",
    "#     f: m-by-1 matrix, the predictions\n",
    "def predict(w, X):\n",
    "    xw = numpy.dot(X, w)\n",
    "    f = numpy.sign(xw)\n",
    "    return f"
   ]
  },
  {
   "cell_type": "code",
   "execution_count": 15,
   "metadata": {},
   "outputs": [
    {
     "name": "stdout",
     "output_type": "stream",
     "text": [
      "Training classification error is 0.215625\n"
     ]
    }
   ],
   "source": [
    "# evaluate training error\n",
    "f_train = predict(w, x_train)\n",
    "diff = numpy.abs(f_train - y_train) / 2\n",
    "error_train = numpy.mean(diff)\n",
    "print('Training classification error is ' + str(error_train))"
   ]
  },
  {
   "cell_type": "code",
   "execution_count": 16,
   "metadata": {},
   "outputs": [
    {
     "name": "stdout",
     "output_type": "stream",
     "text": [
      "Test classification error is 0.234375\n"
     ]
    }
   ],
   "source": [
    "# evaluate test error\n",
    "f_test = predict(w, x_test)\n",
    "diff = numpy.abs(f_test - y_test) / 2\n",
    "error_test = numpy.mean(diff)\n",
    "print('Test classification error is ' + str(error_test))"
   ]
  },
  {
   "cell_type": "markdown",
   "metadata": {},
   "source": [
    "# 6. Mini-batch SGD (fill the code)\n",
    "\n"
   ]
  },
  {
   "cell_type": "markdown",
   "metadata": {},
   "source": [
    "## 6.1. Compute the objective $Q_I$ and its gradient using a batch of samples\n",
    "\n",
    "Define $Q_I (w) = \\frac{1}{b} \\sum_{i \\in I} \\log \\Big( 1 + \\exp \\big( - y_i x_i^T w \\big) \\Big) + \\frac{\\lambda}{2} \\| w \\|_2^2 $, where $I$ is a set containing $b$ indices randomly drawn from $\\{ 1, \\cdots , n \\}$ without replacement.\n",
    "\n",
    "The stochastic gradient at $w$ is $g_I = \\frac{\\partial Q_I }{ \\partial w} = \\frac{1}{b} \\sum_{i \\in I} \\frac{- y_i x_i }{1 + \\exp ( y_i x_i^T w)} + \\lambda w$."
   ]
  },
  {
   "cell_type": "code",
   "execution_count": 17,
   "metadata": {},
   "outputs": [],
   "source": [
    "# Calculate the objective Q_I and the gradient of Q_I\n",
    "# Inputs:\n",
    "#     w: d-by-1 matrix\n",
    "#     xi: b-by-d matrix\n",
    "#     yi: b-by-1 matrix\n",
    "#     lam: scalar, the regularization parameter\n",
    "#     b: integer, the batch size\n",
    "# Return:\n",
    "#     obj: scalar, the objective Q_i\n",
    "#     g: d-by-1 matrix, gradient of Q_i\n",
    "def mb_stochastic_objective_gradient(w, xi, yi, lam, b):\n",
    "    # Fill the function\n",
    "    # Follow the implementation of stochastic_objective_gradient\n",
    "    # Use matrix-vector multiplication; do not use FOR LOOP of vector-vector multiplications\n",
    "    ...\n",
    "    d=w.shape[0]\n",
    "    yx= numpy.multiply(yi, xi)\n",
    "    yxw=numpy.dot(yx,w) \n",
    "    \n",
    "    #calculating the objective function Q_I\n",
    "    loss=numpy.mean(numpy.log(1+numpy.exp(-yxw)))\n",
    "    reg=lam/2*(numpy.sum(w*w))\n",
    "    obj=(loss+reg)\n",
    "    \n",
    "    #calculating stochastic gradient of Q_I\n",
    "    vect1 = numpy.divide(-yx,(1+numpy.exp(yxw)))\n",
    "    g_loss= numpy.mean(vect1,axis=0).reshape(d,1) #d-by-1 matrix\n",
    "    g=(g_loss+lam*w)\n",
    "    \n",
    "    \n",
    "    \n",
    "    return obj, g"
   ]
  },
  {
   "cell_type": "markdown",
   "metadata": {},
   "source": [
    "## 6.2. Implement mini-batch SGD\n",
    "\n",
    "Hints:\n",
    "1. In every epoch, randomly permute the $n$ samples (just like SGD).\n",
    "2. Each epoch has $\\frac{n}{b}$ iterations. In every iteration, use $b$ samples, and compute the gradient and objective using the ``mb_stochastic_objective_gradient`` function. In the next iteration, use the next $b$ samples, and so on.\n"
   ]
  },
  {
   "cell_type": "code",
   "execution_count": 18,
   "metadata": {},
   "outputs": [],
   "source": [
    "# Mini-Batch SGD for solving logistic regression\n",
    "# Inputs:\n",
    "#     x: n-by-d matrix\n",
    "#     y: n-by-1 matrix\n",
    "#     lam: scalar, the regularization parameter\n",
    "#     b: integer, the batch size\n",
    "#     stepsize: scalar\n",
    "#     max_epoch: integer, the maximal epochs\n",
    "#     w: d-by-1 matrix, initialization of w\n",
    "# Return:\n",
    "#     w: the solution\n",
    "#     objvals: record of each iteration's objective value\n",
    "\n",
    "def mb_sgd(x, y, lam, b, stepsize, max_epoch=100, w=None):\n",
    "    # Fill the function\n",
    "    # Follow the implementation of sgd\n",
    "    # Record one objective value per epoch (not per iteration!)\n",
    "    ...\n",
    "    \n",
    "    n,d = x.shape\n",
    "    objvals = numpy.zeros(max_epoch)\n",
    "    if w is None:\n",
    "        w= numpy.zeros((d,1))\n",
    "    for t in range(max_epoch):\n",
    "        #randomly shuffle the samples\n",
    "        rand_indices = numpy.random.permutation(n)\n",
    "        x_rand = x[rand_indices, :]\n",
    "        y_rand = y[rand_indices, :]\n",
    "        \n",
    "        objval=0\n",
    "        epoch_iterations = int(n/b) #setting each epoch to n/b iterations\n",
    "        j=0\n",
    "        for i in range(epoch_iterations):\n",
    "            xi=x_rand[j : j + b, :] \n",
    "            yi=y_rand[j : j + b, :]\n",
    "            obj,g=mb_stochastic_objective_gradient(w, xi, yi,lam,b)\n",
    "            objval += obj\n",
    "            w -= stepsize *g\n",
    "            j += b\n",
    "        stepsize *=0.9\n",
    "        objval /= epoch_iterations\n",
    "        objvals[t] = objval\n",
    "        print('Objective value at epoch t=' +str(t)+ ' is ' +str(objval))\n",
    "    return w, objvals"
   ]
  },
  {
   "cell_type": "markdown",
   "metadata": {},
   "source": [
    "## 6.3. Run MB-SGD"
   ]
  },
  {
   "cell_type": "code",
   "execution_count": 19,
   "metadata": {},
   "outputs": [
    {
     "name": "stdout",
     "output_type": "stream",
     "text": [
      "Objective value at epoch t=0 is 0.5149631663180009\n",
      "Objective value at epoch t=1 is 0.4923557164169624\n",
      "Objective value at epoch t=2 is 0.4942363087028311\n",
      "Objective value at epoch t=3 is 0.4804967493427502\n",
      "Objective value at epoch t=4 is 0.4905306021001068\n",
      "Objective value at epoch t=5 is 0.4824366266027432\n",
      "Objective value at epoch t=6 is 0.4849121473545327\n",
      "Objective value at epoch t=7 is 0.4839196740485138\n",
      "Objective value at epoch t=8 is 0.47910620711520246\n",
      "Objective value at epoch t=9 is 0.4781670190885441\n",
      "Objective value at epoch t=10 is 0.47832791085751225\n",
      "Objective value at epoch t=11 is 0.4750735224701306\n",
      "Objective value at epoch t=12 is 0.4735120088165223\n",
      "Objective value at epoch t=13 is 0.4763541862028764\n",
      "Objective value at epoch t=14 is 0.47336106284109986\n",
      "Objective value at epoch t=15 is 0.4729735753161589\n",
      "Objective value at epoch t=16 is 0.47288416221502966\n",
      "Objective value at epoch t=17 is 0.4721796701945661\n",
      "Objective value at epoch t=18 is 0.47180443085694124\n",
      "Objective value at epoch t=19 is 0.47009222877138324\n",
      "Objective value at epoch t=20 is 0.4703334715828352\n",
      "Objective value at epoch t=21 is 0.46993231592793994\n",
      "Objective value at epoch t=22 is 0.4697470646598312\n",
      "Objective value at epoch t=23 is 0.4692083867539905\n",
      "Objective value at epoch t=24 is 0.4688564385860815\n",
      "Objective value at epoch t=25 is 0.46869912281924575\n",
      "Objective value at epoch t=26 is 0.46827694409242915\n",
      "Objective value at epoch t=27 is 0.46814764058845276\n",
      "Objective value at epoch t=28 is 0.4680488020069161\n",
      "Objective value at epoch t=29 is 0.46761482089266904\n",
      "Objective value at epoch t=30 is 0.4676756640056411\n",
      "Objective value at epoch t=31 is 0.4674416910403127\n",
      "Objective value at epoch t=32 is 0.4672611073906866\n",
      "Objective value at epoch t=33 is 0.46727841383835644\n",
      "Objective value at epoch t=34 is 0.4670028178833475\n",
      "Objective value at epoch t=35 is 0.46690320338177527\n",
      "Objective value at epoch t=36 is 0.466883879235514\n",
      "Objective value at epoch t=37 is 0.4667907748283958\n",
      "Objective value at epoch t=38 is 0.4666675684447985\n",
      "Objective value at epoch t=39 is 0.466649525495495\n",
      "Objective value at epoch t=40 is 0.46654565582463414\n",
      "Objective value at epoch t=41 is 0.4664589388643282\n",
      "Objective value at epoch t=42 is 0.466416001144383\n",
      "Objective value at epoch t=43 is 0.46638502155632644\n",
      "Objective value at epoch t=44 is 0.4662986206081551\n",
      "Objective value at epoch t=45 is 0.46627239317570435\n",
      "Objective value at epoch t=46 is 0.46626162745779987\n",
      "Objective value at epoch t=47 is 0.4662324418855756\n",
      "Objective value at epoch t=48 is 0.46619797684699843\n",
      "Objective value at epoch t=49 is 0.466165752223944\n",
      "Objective value at epoch t=50 is 0.46616576423767037\n",
      "Objective value at epoch t=51 is 0.46613107497299955\n",
      "Objective value at epoch t=52 is 0.4661159200462814\n",
      "Objective value at epoch t=53 is 0.4661070257012449\n",
      "Objective value at epoch t=54 is 0.46608106974494035\n",
      "Objective value at epoch t=55 is 0.466073609515577\n",
      "Objective value at epoch t=56 is 0.4660578630391045\n",
      "Objective value at epoch t=57 is 0.46605598435175144\n",
      "Objective value at epoch t=58 is 0.4660387321037495\n",
      "Objective value at epoch t=59 is 0.46603310168906564\n",
      "Objective value at epoch t=60 is 0.466019415878882\n",
      "Objective value at epoch t=61 is 0.46601114070860145\n",
      "Objective value at epoch t=62 is 0.46600747032438355\n",
      "Objective value at epoch t=63 is 0.46600509880611163\n",
      "Objective value at epoch t=64 is 0.465995257748596\n",
      "Objective value at epoch t=65 is 0.4659934993573002\n",
      "Objective value at epoch t=66 is 0.46598813206008244\n",
      "Objective value at epoch t=67 is 0.4659887379596852\n",
      "Objective value at epoch t=68 is 0.4659808271184847\n",
      "Objective value at epoch t=69 is 0.4659767883466113\n",
      "Objective value at epoch t=70 is 0.4659742697022381\n",
      "Objective value at epoch t=71 is 0.46597273073998274\n",
      "Objective value at epoch t=72 is 0.46597140657501496\n",
      "Objective value at epoch t=73 is 0.46596997137266705\n",
      "Objective value at epoch t=74 is 0.4659647388676408\n",
      "Objective value at epoch t=75 is 0.46596552111333667\n",
      "Objective value at epoch t=76 is 0.46596311260258955\n",
      "Objective value at epoch t=77 is 0.4659621704045055\n",
      "Objective value at epoch t=78 is 0.4659604504202405\n",
      "Objective value at epoch t=79 is 0.46595979971368395\n",
      "Objective value at epoch t=80 is 0.46595913225186614\n",
      "Objective value at epoch t=81 is 0.4659578968898164\n",
      "Objective value at epoch t=82 is 0.4659579117226088\n",
      "Objective value at epoch t=83 is 0.46595633156615895\n",
      "Objective value at epoch t=84 is 0.4659558230070176\n",
      "Objective value at epoch t=85 is 0.46595536486760836\n",
      "Objective value at epoch t=86 is 0.46595477627702564\n",
      "Objective value at epoch t=87 is 0.46595396358968244\n",
      "Objective value at epoch t=88 is 0.465953866894712\n",
      "Objective value at epoch t=89 is 0.4659532682540458\n",
      "Objective value at epoch t=90 is 0.46595340083756487\n",
      "Objective value at epoch t=91 is 0.4659527240604005\n",
      "Objective value at epoch t=92 is 0.4659525466542339\n",
      "Objective value at epoch t=93 is 0.4659521867997086\n",
      "Objective value at epoch t=94 is 0.46595206553314084\n",
      "Objective value at epoch t=95 is 0.4659518539085251\n",
      "Objective value at epoch t=96 is 0.46595170763725646\n",
      "Objective value at epoch t=97 is 0.4659515544468654\n",
      "Objective value at epoch t=98 is 0.4659514242742713\n",
      "Objective value at epoch t=99 is 0.46595134031361435\n"
     ]
    }
   ],
   "source": [
    "# MB-SGD with batch size b=8\n",
    "lam = 1E-6 # do not change\n",
    "b = 8 # do not change\n",
    "stepsize = 0.45 # you must tune this parameter\n",
    "\n",
    "w, objvals_mbsgd8 = mb_sgd(x_train, y_train, lam, b, stepsize)"
   ]
  },
  {
   "cell_type": "code",
   "execution_count": 20,
   "metadata": {},
   "outputs": [
    {
     "name": "stdout",
     "output_type": "stream",
     "text": [
      "Objective value at epoch t=0 is 0.554791355377412\n",
      "Objective value at epoch t=1 is 0.4825232773580275\n",
      "Objective value at epoch t=2 is 0.4736793818982646\n",
      "Objective value at epoch t=3 is 0.47202792488514544\n",
      "Objective value at epoch t=4 is 0.47215716964744453\n",
      "Objective value at epoch t=5 is 0.47004102146785876\n",
      "Objective value at epoch t=6 is 0.46906916814373867\n",
      "Objective value at epoch t=7 is 0.4696958917118182\n",
      "Objective value at epoch t=8 is 0.4698233335523355\n",
      "Objective value at epoch t=9 is 0.46907673977035946\n",
      "Objective value at epoch t=10 is 0.46876610856069406\n",
      "Objective value at epoch t=11 is 0.46810847448977394\n",
      "Objective value at epoch t=12 is 0.4682725420433599\n",
      "Objective value at epoch t=13 is 0.4679356210647444\n",
      "Objective value at epoch t=14 is 0.4677923717991358\n",
      "Objective value at epoch t=15 is 0.46764740639885083\n",
      "Objective value at epoch t=16 is 0.46742273981529003\n",
      "Objective value at epoch t=17 is 0.4668931190992233\n",
      "Objective value at epoch t=18 is 0.46683859596763233\n",
      "Objective value at epoch t=19 is 0.4669896316941108\n",
      "Objective value at epoch t=20 is 0.46690504861720666\n",
      "Objective value at epoch t=21 is 0.46698167213172026\n",
      "Objective value at epoch t=22 is 0.466855663486763\n",
      "Objective value at epoch t=23 is 0.4665259824352968\n",
      "Objective value at epoch t=24 is 0.4664830522522593\n",
      "Objective value at epoch t=25 is 0.46657109606087943\n",
      "Objective value at epoch t=26 is 0.46647024306622276\n",
      "Objective value at epoch t=27 is 0.46636795575987017\n",
      "Objective value at epoch t=28 is 0.4661812584510562\n",
      "Objective value at epoch t=29 is 0.4663233488534707\n",
      "Objective value at epoch t=30 is 0.46632215314359227\n",
      "Objective value at epoch t=31 is 0.46634144345012973\n",
      "Objective value at epoch t=32 is 0.46624446876109166\n",
      "Objective value at epoch t=33 is 0.46621631402257957\n",
      "Objective value at epoch t=34 is 0.4661189679840617\n",
      "Objective value at epoch t=35 is 0.46613343564990084\n",
      "Objective value at epoch t=36 is 0.46609470396028796\n",
      "Objective value at epoch t=37 is 0.46612662966707197\n",
      "Objective value at epoch t=38 is 0.46606586021348545\n",
      "Objective value at epoch t=39 is 0.46609715062426293\n",
      "Objective value at epoch t=40 is 0.4660685656847237\n",
      "Objective value at epoch t=41 is 0.4660551281193179\n",
      "Objective value at epoch t=42 is 0.46604032248277266\n",
      "Objective value at epoch t=43 is 0.46604501652931746\n",
      "Objective value at epoch t=44 is 0.46603592041008823\n",
      "Objective value at epoch t=45 is 0.46602645426393935\n",
      "Objective value at epoch t=46 is 0.46601346374490216\n",
      "Objective value at epoch t=47 is 0.4660168287750658\n",
      "Objective value at epoch t=48 is 0.4660001760279454\n",
      "Objective value at epoch t=49 is 0.46599830722223057\n",
      "Objective value at epoch t=50 is 0.46600536229589834\n",
      "Objective value at epoch t=51 is 0.46598656515454034\n",
      "Objective value at epoch t=52 is 0.4659835233695044\n",
      "Objective value at epoch t=53 is 0.46598668566808843\n",
      "Objective value at epoch t=54 is 0.4659713743124593\n",
      "Objective value at epoch t=55 is 0.46597050764394404\n",
      "Objective value at epoch t=56 is 0.46596951172990025\n",
      "Objective value at epoch t=57 is 0.4659717939349811\n",
      "Objective value at epoch t=58 is 0.46596622396308957\n",
      "Objective value at epoch t=59 is 0.4659705487296063\n",
      "Objective value at epoch t=60 is 0.46596542858283224\n",
      "Objective value at epoch t=61 is 0.4659704373201534\n",
      "Objective value at epoch t=62 is 0.46596214725104346\n",
      "Objective value at epoch t=63 is 0.46596092294732755\n",
      "Objective value at epoch t=64 is 0.4659604693129717\n",
      "Objective value at epoch t=65 is 0.4659601323254468\n",
      "Objective value at epoch t=66 is 0.4659588339460424\n",
      "Objective value at epoch t=67 is 0.4659569046405281\n",
      "Objective value at epoch t=68 is 0.4659560378719025\n",
      "Objective value at epoch t=69 is 0.46595698236946176\n",
      "Objective value at epoch t=70 is 0.46595554693883817\n",
      "Objective value at epoch t=71 is 0.46595566555375606\n",
      "Objective value at epoch t=72 is 0.4659547657640023\n",
      "Objective value at epoch t=73 is 0.4659538443162313\n",
      "Objective value at epoch t=74 is 0.4659543406128151\n",
      "Objective value at epoch t=75 is 0.4659536920924456\n",
      "Objective value at epoch t=76 is 0.46595381992027873\n",
      "Objective value at epoch t=77 is 0.4659541825410781\n",
      "Objective value at epoch t=78 is 0.46595280237396197\n",
      "Objective value at epoch t=79 is 0.4659527356447827\n",
      "Objective value at epoch t=80 is 0.4659529983882499\n",
      "Objective value at epoch t=81 is 0.46595252383944014\n",
      "Objective value at epoch t=82 is 0.4659527675250315\n",
      "Objective value at epoch t=83 is 0.4659523251030646\n",
      "Objective value at epoch t=84 is 0.4659522725579149\n",
      "Objective value at epoch t=85 is 0.46595213561539933\n",
      "Objective value at epoch t=86 is 0.46595221659723646\n",
      "Objective value at epoch t=87 is 0.4659518812441739\n",
      "Objective value at epoch t=88 is 0.4659522583630342\n",
      "Objective value at epoch t=89 is 0.46595208340470373\n",
      "Objective value at epoch t=90 is 0.465951804035546\n",
      "Objective value at epoch t=91 is 0.46595175852822635\n",
      "Objective value at epoch t=92 is 0.46595170614223963\n",
      "Objective value at epoch t=93 is 0.4659516666121319\n",
      "Objective value at epoch t=94 is 0.46595169414040927\n",
      "Objective value at epoch t=95 is 0.4659515390530359\n",
      "Objective value at epoch t=96 is 0.465951497044483\n",
      "Objective value at epoch t=97 is 0.46595157122790265\n",
      "Objective value at epoch t=98 is 0.4659515131843657\n",
      "Objective value at epoch t=99 is 0.46595145518871073\n"
     ]
    }
   ],
   "source": [
    "# MB-SGD with batch size b=64\n",
    "lam = 1E-6 # do not change\n",
    "b = 64 # do not change\n",
    "stepsize = 0.76 # you must tune this parameter\n",
    "\n",
    "w, objvals_mbsgd64 = mb_sgd(x_train, y_train, lam, b, stepsize)"
   ]
  },
  {
   "cell_type": "markdown",
   "metadata": {},
   "source": [
    "# 7. Plot and compare GD, SGD, and MB-SGD"
   ]
  },
  {
   "cell_type": "markdown",
   "metadata": {},
   "source": [
    "You are required to compare the following algorithms:\n",
    "\n",
    "- Gradient descent (GD)\n",
    "\n",
    "- SGD\n",
    "\n",
    "- MB-SGD with b=8\n",
    "\n",
    "- MB-SGD with b=64\n",
    "\n",
    "Follow the code in Section 4 to plot ```objective function value``` against ```epochs```. There should be four curves in the plot; each curve corresponds to one algorithm."
   ]
  },
  {
   "cell_type": "markdown",
   "metadata": {},
   "source": [
    "Hint: Logistic regression with $\\ell_2$-norm regularization is a strongly convex optimization problem. All the algorithms will converge to the same solution. **In the end, the ``objective function value`` of the 4 algorithms will be the same. If not the same, your implementation must be wrong. Do NOT submit wrong code and wrong result!**"
   ]
  },
  {
   "cell_type": "code",
   "execution_count": 21,
   "metadata": {},
   "outputs": [
    {
     "data": {
      "image/png": "[encoded data removed]",
      "text/plain": [
       "<Figure size 432x288 with 1 Axes>"
      ]
     },
     "metadata": {
      "needs_background": "light"
     },
     "output_type": "display_data"
    }
   ],
   "source": [
    "# plot the 4 curves:\n",
    "import matplotlib.pyplot as plt\n",
    "%matplotlib inline\n",
    "\n",
    "fig = plt.figure(figsize=(6, 4))\n",
    "\n",
    "epochs_gd = range(len(objvals_gd))\n",
    "epochs_sgd = range(len(objvals_sgd))\n",
    "epochs_sgd = range(len(objvals_mbsgd8))\n",
    "epochs_sgd = range(len(objvals_mbsgd64))\n",
    "\n",
    "line0, = plt.plot(epochs_gd, objvals_gd, '--b', LineWidth=4)\n",
    "line1, = plt.plot(epochs_sgd, objvals_sgd, '-r', LineWidth=2)\n",
    "line2, = plt.plot(epochs_sgd, objvals_mbsgd8, '--y', LineWidth=2)\n",
    "line3, = plt.plot(epochs_sgd, objvals_mbsgd64, '-g', LineWidth=1)\n",
    "plt.xlabel('Epochs', FontSize=20)\n",
    "plt.ylabel('Objective Value', FontSize=20)\n",
    "plt.xticks(FontSize=16)\n",
    "plt.yticks(FontSize=16)\n",
    "plt.legend([line0, line1, line2, line3], ['GD', 'SGD','MB_SGD8', 'MB_SGD64'], fontsize=20)\n",
    "plt.tight_layout()\n",
    "plt.show()\n",
    "fig.savefig('compare_gd_sgd.pdf', format='pdf', dpi=1200)"
   ]
  },
  {
   "cell_type": "markdown",
   "metadata": {},
   "source": []
  }
 ],
 "metadata": {
  "kernelspec": {
   "display_name": "Python 3",
   "language": "python",
   "name": "python3"
  },
  "language_info": {
   "codemirror_mode": {
    "name": "ipython",
    "version": 3
   },
   "file_extension": ".py",
   "mimetype": "text/x-python",
   "name": "python",
   "nbconvert_exporter": "python",
   "pygments_lexer": "ipython3",
   "version": "3.7.6"
  }
 },
 "nbformat": 4,
 "nbformat_minor": 4
}
